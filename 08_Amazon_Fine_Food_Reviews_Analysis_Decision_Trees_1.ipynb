{
 "cells": [
  {
   "cell_type": "markdown",
   "metadata": {},
   "source": [
    "# Amazon Fine Food Reviews Analysis\n",
    "\n",
    "\n",
    "Data Source: https://www.kaggle.com/snap/amazon-fine-food-reviews <br>\n",
    "\n",
    "EDA: https://nycdatascience.com/blog/student-works/amazon-fine-foods-visualization/\n",
    "\n",
    "\n",
    "The Amazon Fine Food Reviews dataset consists of reviews of fine foods from Amazon.<br>\n",
    "\n",
    "Number of reviews: 568,454<br>\n",
    "Number of users: 256,059<br>\n",
    "Number of products: 74,258<br>\n",
    "Timespan: Oct 1999 - Oct 2012<br>\n",
    "Number of Attributes/Columns in data: 10 \n",
    "\n",
    "Attribute Information:\n",
    "\n",
    "1. Id\n",
    "2. ProductId - unique identifier for the product\n",
    "3. UserId - unqiue identifier for the user\n",
    "4. ProfileName\n",
    "5. HelpfulnessNumerator - number of users who found the review helpful\n",
    "6. HelpfulnessDenominator - number of users who indicated whether they found the review helpful or not\n",
    "7. Score - rating between 1 and 5\n",
    "8. Time - timestamp for the review\n",
    "9. Summary - brief summary of the review\n",
    "10. Text - text of the review\n",
    "\n",
    "\n",
    "#### Objective:\n",
    "Given a review, determine whether the review is positive (rating of 4 or 5) or negative (rating of 1 or 2).\n",
    "\n",
    "<br>\n",
    "[Q] How to determine if a review is positive or negative?<br>\n",
    "<br> \n",
    "[Ans] We could use Score/Rating. A rating of 4 or 5 can be cosnidered as a positive review. A rating of 1 or 2 can be considered as negative one. A review of rating 3 is considered nuetral and such reviews are ignored from our analysis. This is an approximate and proxy way of determining the polarity (positivity/negativity) of a review.\n",
    "\n",
    "\n"
   ]
  },
  {
   "cell_type": "markdown",
   "metadata": {},
   "source": [
    "# [1]. Reading Data"
   ]
  },
  {
   "cell_type": "markdown",
   "metadata": {},
   "source": [
    "## [1.1] Loading the data\n",
    "\n",
    "The dataset is available in two forms\n",
    "1. .csv file\n",
    "2. SQLite Database\n",
    "\n",
    "In order to load the data, We have used the SQLITE dataset as it is easier to query the data and visualise the data efficiently.\n",
    "<br> \n",
    "\n",
    "Here as we only want to get the global sentiment of the recommendations (positive or negative), we will purposefully ignore all Scores equal to 3. If the score is above 3, then the recommendation wil be set to \"positive\". Otherwise, it will be set to \"negative\"."
   ]
  },
  {
   "cell_type": "code",
   "execution_count": 1,
   "metadata": {},
   "outputs": [
    {
     "name": "stderr",
     "output_type": "stream",
     "text": [
      "D:\\python\\lib\\site-packages\\gensim\\utils.py:1212: UserWarning: detected Windows; aliasing chunkize to chunkize_serial\n",
      "  warnings.warn(\"detected Windows; aliasing chunkize to chunkize_serial\")\n"
     ]
    }
   ],
   "source": [
    "%matplotlib inline\n",
    "import warnings\n",
    "warnings.filterwarnings(\"ignore\")\n",
    "\n",
    "\n",
    "import sqlite3\n",
    "import pandas as pd\n",
    "import numpy as np\n",
    "import nltk\n",
    "import string\n",
    "import matplotlib.pyplot as plt\n",
    "import seaborn as sns\n",
    "from sklearn.feature_extraction.text import TfidfTransformer\n",
    "from sklearn.feature_extraction.text import TfidfVectorizer\n",
    "\n",
    "from sklearn.feature_extraction.text import CountVectorizer\n",
    "from sklearn.metrics import confusion_matrix\n",
    "from sklearn import metrics\n",
    "from sklearn.metrics import roc_curve, auc\n",
    "from nltk.stem.porter import PorterStemmer\n",
    "\n",
    "import re\n",
    "# Tutorial about Python regular expressions: https://pymotw.com/2/re/\n",
    "import string\n",
    "from nltk.corpus import stopwords\n",
    "from nltk.stem import PorterStemmer\n",
    "from nltk.stem.wordnet import WordNetLemmatizer\n",
    "\n",
    "from gensim.models import Word2Vec\n",
    "from gensim.models import KeyedVectors\n",
    "import pickle\n",
    "\n",
    "from tqdm import tqdm\n",
    "import os"
   ]
  },
  {
   "cell_type": "code",
   "execution_count": 2,
   "metadata": {},
   "outputs": [
    {
     "name": "stdout",
     "output_type": "stream",
     "text": [
      "Number of data points in our data (500000, 10)\n"
     ]
    },
    {
     "data": {
      "text/html": [
       "<div>\n",
       "<style scoped>\n",
       "    .dataframe tbody tr th:only-of-type {\n",
       "        vertical-align: middle;\n",
       "    }\n",
       "\n",
       "    .dataframe tbody tr th {\n",
       "        vertical-align: top;\n",
       "    }\n",
       "\n",
       "    .dataframe thead th {\n",
       "        text-align: right;\n",
       "    }\n",
       "</style>\n",
       "<table border=\"1\" class=\"dataframe\">\n",
       "  <thead>\n",
       "    <tr style=\"text-align: right;\">\n",
       "      <th></th>\n",
       "      <th>Id</th>\n",
       "      <th>ProductId</th>\n",
       "      <th>UserId</th>\n",
       "      <th>ProfileName</th>\n",
       "      <th>HelpfulnessNumerator</th>\n",
       "      <th>HelpfulnessDenominator</th>\n",
       "      <th>Score</th>\n",
       "      <th>Time</th>\n",
       "      <th>Summary</th>\n",
       "      <th>Text</th>\n",
       "    </tr>\n",
       "  </thead>\n",
       "  <tbody>\n",
       "    <tr>\n",
       "      <th>0</th>\n",
       "      <td>1</td>\n",
       "      <td>B001E4KFG0</td>\n",
       "      <td>A3SGXH7AUHU8GW</td>\n",
       "      <td>delmartian</td>\n",
       "      <td>1</td>\n",
       "      <td>1</td>\n",
       "      <td>1</td>\n",
       "      <td>1303862400</td>\n",
       "      <td>Good Quality Dog Food</td>\n",
       "      <td>I have bought several of the Vitality canned d...</td>\n",
       "    </tr>\n",
       "    <tr>\n",
       "      <th>1</th>\n",
       "      <td>2</td>\n",
       "      <td>B00813GRG4</td>\n",
       "      <td>A1D87F6ZCVE5NK</td>\n",
       "      <td>dll pa</td>\n",
       "      <td>0</td>\n",
       "      <td>0</td>\n",
       "      <td>0</td>\n",
       "      <td>1346976000</td>\n",
       "      <td>Not as Advertised</td>\n",
       "      <td>Product arrived labeled as Jumbo Salted Peanut...</td>\n",
       "    </tr>\n",
       "    <tr>\n",
       "      <th>2</th>\n",
       "      <td>3</td>\n",
       "      <td>B000LQOCH0</td>\n",
       "      <td>ABXLMWJIXXAIN</td>\n",
       "      <td>Natalia Corres \"Natalia Corres\"</td>\n",
       "      <td>1</td>\n",
       "      <td>1</td>\n",
       "      <td>1</td>\n",
       "      <td>1219017600</td>\n",
       "      <td>\"Delight\" says it all</td>\n",
       "      <td>This is a confection that has been around a fe...</td>\n",
       "    </tr>\n",
       "  </tbody>\n",
       "</table>\n",
       "</div>"
      ],
      "text/plain": [
       "   Id   ProductId          UserId                      ProfileName  \\\n",
       "0   1  B001E4KFG0  A3SGXH7AUHU8GW                       delmartian   \n",
       "1   2  B00813GRG4  A1D87F6ZCVE5NK                           dll pa   \n",
       "2   3  B000LQOCH0   ABXLMWJIXXAIN  Natalia Corres \"Natalia Corres\"   \n",
       "\n",
       "   HelpfulnessNumerator  HelpfulnessDenominator  Score        Time  \\\n",
       "0                     1                       1      1  1303862400   \n",
       "1                     0                       0      0  1346976000   \n",
       "2                     1                       1      1  1219017600   \n",
       "\n",
       "                 Summary                                               Text  \n",
       "0  Good Quality Dog Food  I have bought several of the Vitality canned d...  \n",
       "1      Not as Advertised  Product arrived labeled as Jumbo Salted Peanut...  \n",
       "2  \"Delight\" says it all  This is a confection that has been around a fe...  "
      ]
     },
     "execution_count": 2,
     "metadata": {},
     "output_type": "execute_result"
    }
   ],
   "source": [
    "# using SQLite Table to read data.\n",
    "con = sqlite3.connect('database.sqlite') \n",
    "\n",
    "# filtering only positive and negative reviews i.e. \n",
    "# not taking into consideration those reviews with Score=3\n",
    "# SELECT * FROM Reviews WHERE Score != 3 LIMIT 500000, will give top 500000 data points\n",
    "# you can change the number to any other number based on your computing power\n",
    "\n",
    "filtered_data = pd.read_sql_query(\"\"\" SELECT * FROM Reviews WHERE Score != 3 LIMIT 500000\"\"\", con) \n",
    "# for tsne assignment you can take 5k data points\n",
    "\n",
    "#filtered_data = pd.read_sql_query(\"\"\" SELECT * FROM Reviews WHERE Score != 3 LIMIT 5000\"\"\", con) \n",
    "\n",
    "# Give reviews with Score>3 a positive rating(1), and reviews with a score<3 a negative rating(0).\n",
    "def partition(x):\n",
    "    if x < 3:\n",
    "        return 0\n",
    "    return 1\n",
    "\n",
    "#changing reviews with score less than 3 to be positive and vice-versa\n",
    "actualScore = filtered_data['Score']\n",
    "positiveNegative = actualScore.map(partition) \n",
    "filtered_data['Score'] = positiveNegative\n",
    "print(\"Number of data points in our data\", filtered_data.shape)\n",
    "filtered_data.head(3)"
   ]
  },
  {
   "cell_type": "code",
   "execution_count": 3,
   "metadata": {},
   "outputs": [],
   "source": [
    "display = pd.read_sql_query(\"\"\"\n",
    "SELECT UserId, ProductId, ProfileName, Time, Score, Text, COUNT(*)\n",
    "FROM Reviews\n",
    "GROUP BY UserId\n",
    "HAVING COUNT(*)>1\n",
    "\"\"\", con)"
   ]
  },
  {
   "cell_type": "code",
   "execution_count": 4,
   "metadata": {
    "scrolled": true
   },
   "outputs": [
    {
     "name": "stdout",
     "output_type": "stream",
     "text": [
      "(80668, 7)\n"
     ]
    },
    {
     "data": {
      "text/html": [
       "<div>\n",
       "<style scoped>\n",
       "    .dataframe tbody tr th:only-of-type {\n",
       "        vertical-align: middle;\n",
       "    }\n",
       "\n",
       "    .dataframe tbody tr th {\n",
       "        vertical-align: top;\n",
       "    }\n",
       "\n",
       "    .dataframe thead th {\n",
       "        text-align: right;\n",
       "    }\n",
       "</style>\n",
       "<table border=\"1\" class=\"dataframe\">\n",
       "  <thead>\n",
       "    <tr style=\"text-align: right;\">\n",
       "      <th></th>\n",
       "      <th>UserId</th>\n",
       "      <th>ProductId</th>\n",
       "      <th>ProfileName</th>\n",
       "      <th>Time</th>\n",
       "      <th>Score</th>\n",
       "      <th>Text</th>\n",
       "      <th>COUNT(*)</th>\n",
       "    </tr>\n",
       "  </thead>\n",
       "  <tbody>\n",
       "    <tr>\n",
       "      <th>0</th>\n",
       "      <td>#oc-R115TNMSPFT9I7</td>\n",
       "      <td>B007Y59HVM</td>\n",
       "      <td>Breyton</td>\n",
       "      <td>1331510400</td>\n",
       "      <td>2</td>\n",
       "      <td>Overall its just OK when considering the price...</td>\n",
       "      <td>2</td>\n",
       "    </tr>\n",
       "    <tr>\n",
       "      <th>1</th>\n",
       "      <td>#oc-R11D9D7SHXIJB9</td>\n",
       "      <td>B005HG9ET0</td>\n",
       "      <td>Louis E. Emory \"hoppy\"</td>\n",
       "      <td>1342396800</td>\n",
       "      <td>5</td>\n",
       "      <td>My wife has recurring extreme muscle spasms, u...</td>\n",
       "      <td>3</td>\n",
       "    </tr>\n",
       "    <tr>\n",
       "      <th>2</th>\n",
       "      <td>#oc-R11DNU2NBKQ23Z</td>\n",
       "      <td>B007Y59HVM</td>\n",
       "      <td>Kim Cieszykowski</td>\n",
       "      <td>1348531200</td>\n",
       "      <td>1</td>\n",
       "      <td>This coffee is horrible and unfortunately not ...</td>\n",
       "      <td>2</td>\n",
       "    </tr>\n",
       "    <tr>\n",
       "      <th>3</th>\n",
       "      <td>#oc-R11O5J5ZVQE25C</td>\n",
       "      <td>B005HG9ET0</td>\n",
       "      <td>Penguin Chick</td>\n",
       "      <td>1346889600</td>\n",
       "      <td>5</td>\n",
       "      <td>This will be the bottle that you grab from the...</td>\n",
       "      <td>3</td>\n",
       "    </tr>\n",
       "    <tr>\n",
       "      <th>4</th>\n",
       "      <td>#oc-R12KPBODL2B5ZD</td>\n",
       "      <td>B007OSBE1U</td>\n",
       "      <td>Christopher P. Presta</td>\n",
       "      <td>1348617600</td>\n",
       "      <td>1</td>\n",
       "      <td>I didnt like this coffee. Instead of telling y...</td>\n",
       "      <td>2</td>\n",
       "    </tr>\n",
       "  </tbody>\n",
       "</table>\n",
       "</div>"
      ],
      "text/plain": [
       "               UserId   ProductId             ProfileName        Time  Score  \\\n",
       "0  #oc-R115TNMSPFT9I7  B007Y59HVM                 Breyton  1331510400      2   \n",
       "1  #oc-R11D9D7SHXIJB9  B005HG9ET0  Louis E. Emory \"hoppy\"  1342396800      5   \n",
       "2  #oc-R11DNU2NBKQ23Z  B007Y59HVM        Kim Cieszykowski  1348531200      1   \n",
       "3  #oc-R11O5J5ZVQE25C  B005HG9ET0           Penguin Chick  1346889600      5   \n",
       "4  #oc-R12KPBODL2B5ZD  B007OSBE1U   Christopher P. Presta  1348617600      1   \n",
       "\n",
       "                                                Text  COUNT(*)  \n",
       "0  Overall its just OK when considering the price...         2  \n",
       "1  My wife has recurring extreme muscle spasms, u...         3  \n",
       "2  This coffee is horrible and unfortunately not ...         2  \n",
       "3  This will be the bottle that you grab from the...         3  \n",
       "4  I didnt like this coffee. Instead of telling y...         2  "
      ]
     },
     "execution_count": 4,
     "metadata": {},
     "output_type": "execute_result"
    }
   ],
   "source": [
    "print(display.shape)\n",
    "display.head()"
   ]
  },
  {
   "cell_type": "code",
   "execution_count": 5,
   "metadata": {},
   "outputs": [
    {
     "data": {
      "text/html": [
       "<div>\n",
       "<style scoped>\n",
       "    .dataframe tbody tr th:only-of-type {\n",
       "        vertical-align: middle;\n",
       "    }\n",
       "\n",
       "    .dataframe tbody tr th {\n",
       "        vertical-align: top;\n",
       "    }\n",
       "\n",
       "    .dataframe thead th {\n",
       "        text-align: right;\n",
       "    }\n",
       "</style>\n",
       "<table border=\"1\" class=\"dataframe\">\n",
       "  <thead>\n",
       "    <tr style=\"text-align: right;\">\n",
       "      <th></th>\n",
       "      <th>UserId</th>\n",
       "      <th>ProductId</th>\n",
       "      <th>ProfileName</th>\n",
       "      <th>Time</th>\n",
       "      <th>Score</th>\n",
       "      <th>Text</th>\n",
       "      <th>COUNT(*)</th>\n",
       "    </tr>\n",
       "  </thead>\n",
       "  <tbody>\n",
       "    <tr>\n",
       "      <th>80638</th>\n",
       "      <td>AZY10LLTJ71NX</td>\n",
       "      <td>B006P7E5ZI</td>\n",
       "      <td>undertheshrine \"undertheshrine\"</td>\n",
       "      <td>1334707200</td>\n",
       "      <td>5</td>\n",
       "      <td>I was recommended to try green tea extract to ...</td>\n",
       "      <td>5</td>\n",
       "    </tr>\n",
       "  </tbody>\n",
       "</table>\n",
       "</div>"
      ],
      "text/plain": [
       "              UserId   ProductId                      ProfileName        Time  \\\n",
       "80638  AZY10LLTJ71NX  B006P7E5ZI  undertheshrine \"undertheshrine\"  1334707200   \n",
       "\n",
       "       Score                                               Text  COUNT(*)  \n",
       "80638      5  I was recommended to try green tea extract to ...         5  "
      ]
     },
     "execution_count": 5,
     "metadata": {},
     "output_type": "execute_result"
    }
   ],
   "source": [
    "display[display['UserId']=='AZY10LLTJ71NX']"
   ]
  },
  {
   "cell_type": "code",
   "execution_count": 6,
   "metadata": {},
   "outputs": [
    {
     "data": {
      "text/plain": [
       "393063"
      ]
     },
     "execution_count": 6,
     "metadata": {},
     "output_type": "execute_result"
    }
   ],
   "source": [
    "display['COUNT(*)'].sum()"
   ]
  },
  {
   "cell_type": "markdown",
   "metadata": {},
   "source": [
    "#  [2] Exploratory Data Analysis"
   ]
  },
  {
   "cell_type": "markdown",
   "metadata": {},
   "source": [
    "## [2.1] Data Cleaning: Deduplication\n",
    "\n",
    "It is observed (as shown in the table below) that the reviews data had many duplicate entries. Hence it was necessary to remove duplicates in order to get unbiased results for the analysis of the data.  Following is an example:"
   ]
  },
  {
   "cell_type": "code",
   "execution_count": 7,
   "metadata": {
    "scrolled": false
   },
   "outputs": [
    {
     "data": {
      "text/html": [
       "<div>\n",
       "<style scoped>\n",
       "    .dataframe tbody tr th:only-of-type {\n",
       "        vertical-align: middle;\n",
       "    }\n",
       "\n",
       "    .dataframe tbody tr th {\n",
       "        vertical-align: top;\n",
       "    }\n",
       "\n",
       "    .dataframe thead th {\n",
       "        text-align: right;\n",
       "    }\n",
       "</style>\n",
       "<table border=\"1\" class=\"dataframe\">\n",
       "  <thead>\n",
       "    <tr style=\"text-align: right;\">\n",
       "      <th></th>\n",
       "      <th>Id</th>\n",
       "      <th>ProductId</th>\n",
       "      <th>UserId</th>\n",
       "      <th>ProfileName</th>\n",
       "      <th>HelpfulnessNumerator</th>\n",
       "      <th>HelpfulnessDenominator</th>\n",
       "      <th>Score</th>\n",
       "      <th>Time</th>\n",
       "      <th>Summary</th>\n",
       "      <th>Text</th>\n",
       "    </tr>\n",
       "  </thead>\n",
       "  <tbody>\n",
       "    <tr>\n",
       "      <th>0</th>\n",
       "      <td>78445</td>\n",
       "      <td>B000HDL1RQ</td>\n",
       "      <td>AR5J8UI46CURR</td>\n",
       "      <td>Geetha Krishnan</td>\n",
       "      <td>2</td>\n",
       "      <td>2</td>\n",
       "      <td>5</td>\n",
       "      <td>1199577600</td>\n",
       "      <td>LOACKER QUADRATINI VANILLA WAFERS</td>\n",
       "      <td>DELICIOUS WAFERS. I FIND THAT EUROPEAN WAFERS ...</td>\n",
       "    </tr>\n",
       "    <tr>\n",
       "      <th>1</th>\n",
       "      <td>138317</td>\n",
       "      <td>B000HDOPYC</td>\n",
       "      <td>AR5J8UI46CURR</td>\n",
       "      <td>Geetha Krishnan</td>\n",
       "      <td>2</td>\n",
       "      <td>2</td>\n",
       "      <td>5</td>\n",
       "      <td>1199577600</td>\n",
       "      <td>LOACKER QUADRATINI VANILLA WAFERS</td>\n",
       "      <td>DELICIOUS WAFERS. I FIND THAT EUROPEAN WAFERS ...</td>\n",
       "    </tr>\n",
       "    <tr>\n",
       "      <th>2</th>\n",
       "      <td>138277</td>\n",
       "      <td>B000HDOPYM</td>\n",
       "      <td>AR5J8UI46CURR</td>\n",
       "      <td>Geetha Krishnan</td>\n",
       "      <td>2</td>\n",
       "      <td>2</td>\n",
       "      <td>5</td>\n",
       "      <td>1199577600</td>\n",
       "      <td>LOACKER QUADRATINI VANILLA WAFERS</td>\n",
       "      <td>DELICIOUS WAFERS. I FIND THAT EUROPEAN WAFERS ...</td>\n",
       "    </tr>\n",
       "    <tr>\n",
       "      <th>3</th>\n",
       "      <td>73791</td>\n",
       "      <td>B000HDOPZG</td>\n",
       "      <td>AR5J8UI46CURR</td>\n",
       "      <td>Geetha Krishnan</td>\n",
       "      <td>2</td>\n",
       "      <td>2</td>\n",
       "      <td>5</td>\n",
       "      <td>1199577600</td>\n",
       "      <td>LOACKER QUADRATINI VANILLA WAFERS</td>\n",
       "      <td>DELICIOUS WAFERS. I FIND THAT EUROPEAN WAFERS ...</td>\n",
       "    </tr>\n",
       "    <tr>\n",
       "      <th>4</th>\n",
       "      <td>155049</td>\n",
       "      <td>B000PAQ75C</td>\n",
       "      <td>AR5J8UI46CURR</td>\n",
       "      <td>Geetha Krishnan</td>\n",
       "      <td>2</td>\n",
       "      <td>2</td>\n",
       "      <td>5</td>\n",
       "      <td>1199577600</td>\n",
       "      <td>LOACKER QUADRATINI VANILLA WAFERS</td>\n",
       "      <td>DELICIOUS WAFERS. I FIND THAT EUROPEAN WAFERS ...</td>\n",
       "    </tr>\n",
       "  </tbody>\n",
       "</table>\n",
       "</div>"
      ],
      "text/plain": [
       "       Id   ProductId         UserId      ProfileName  HelpfulnessNumerator  \\\n",
       "0   78445  B000HDL1RQ  AR5J8UI46CURR  Geetha Krishnan                     2   \n",
       "1  138317  B000HDOPYC  AR5J8UI46CURR  Geetha Krishnan                     2   \n",
       "2  138277  B000HDOPYM  AR5J8UI46CURR  Geetha Krishnan                     2   \n",
       "3   73791  B000HDOPZG  AR5J8UI46CURR  Geetha Krishnan                     2   \n",
       "4  155049  B000PAQ75C  AR5J8UI46CURR  Geetha Krishnan                     2   \n",
       "\n",
       "   HelpfulnessDenominator  Score        Time  \\\n",
       "0                       2      5  1199577600   \n",
       "1                       2      5  1199577600   \n",
       "2                       2      5  1199577600   \n",
       "3                       2      5  1199577600   \n",
       "4                       2      5  1199577600   \n",
       "\n",
       "                             Summary  \\\n",
       "0  LOACKER QUADRATINI VANILLA WAFERS   \n",
       "1  LOACKER QUADRATINI VANILLA WAFERS   \n",
       "2  LOACKER QUADRATINI VANILLA WAFERS   \n",
       "3  LOACKER QUADRATINI VANILLA WAFERS   \n",
       "4  LOACKER QUADRATINI VANILLA WAFERS   \n",
       "\n",
       "                                                Text  \n",
       "0  DELICIOUS WAFERS. I FIND THAT EUROPEAN WAFERS ...  \n",
       "1  DELICIOUS WAFERS. I FIND THAT EUROPEAN WAFERS ...  \n",
       "2  DELICIOUS WAFERS. I FIND THAT EUROPEAN WAFERS ...  \n",
       "3  DELICIOUS WAFERS. I FIND THAT EUROPEAN WAFERS ...  \n",
       "4  DELICIOUS WAFERS. I FIND THAT EUROPEAN WAFERS ...  "
      ]
     },
     "execution_count": 7,
     "metadata": {},
     "output_type": "execute_result"
    }
   ],
   "source": [
    "display= pd.read_sql_query(\"\"\"\n",
    "SELECT *\n",
    "FROM Reviews\n",
    "WHERE Score != 3 AND UserId=\"AR5J8UI46CURR\"\n",
    "ORDER BY ProductID\n",
    "\"\"\", con)\n",
    "display.head()"
   ]
  },
  {
   "cell_type": "markdown",
   "metadata": {},
   "source": [
    "As it can be seen above that same user has multiple reviews with same values for HelpfulnessNumerator, HelpfulnessDenominator, Score, Time, Summary and Text and on doing analysis it was found that <br>\n",
    "<br> \n",
    "ProductId=B000HDOPZG was Loacker Quadratini Vanilla Wafer Cookies, 8.82-Ounce Packages (Pack of 8)<br>\n",
    "<br> \n",
    "ProductId=B000HDL1RQ was Loacker Quadratini Lemon Wafer Cookies, 8.82-Ounce Packages (Pack of 8) and so on<br>\n",
    "\n",
    "It was inferred after analysis that reviews with same parameters other than ProductId belonged to the same product just having different flavour or quantity. Hence in order to reduce redundancy it was decided to eliminate the rows having same parameters.<br>\n",
    "\n",
    "The method used for the same was that we first sort the data according to ProductId and then just keep the first similar product review and delelte the others. for eg. in the above just the review for ProductId=B000HDL1RQ remains. This method ensures that there is only one representative for each product and deduplication without sorting would lead to possibility of different representatives still existing for the same product."
   ]
  },
  {
   "cell_type": "code",
   "execution_count": 8,
   "metadata": {},
   "outputs": [],
   "source": [
    "#Sorting data according to ProductId in ascending order\n",
    "sorted_data=filtered_data.sort_values('ProductId', axis=0, ascending=True, inplace=False, kind='quicksort', na_position='last')"
   ]
  },
  {
   "cell_type": "code",
   "execution_count": 9,
   "metadata": {},
   "outputs": [
    {
     "data": {
      "text/plain": [
       "(348262, 10)"
      ]
     },
     "execution_count": 9,
     "metadata": {},
     "output_type": "execute_result"
    }
   ],
   "source": [
    "#Deduplication of entries\n",
    "final=sorted_data.drop_duplicates(subset={\"UserId\",\"ProfileName\",\"Time\",\"Text\"}, keep='first', inplace=False)\n",
    "final.shape"
   ]
  },
  {
   "cell_type": "code",
   "execution_count": 10,
   "metadata": {},
   "outputs": [
    {
     "data": {
      "text/plain": [
       "69.6524"
      ]
     },
     "execution_count": 10,
     "metadata": {},
     "output_type": "execute_result"
    }
   ],
   "source": [
    "#Checking to see how much % of data still remains\n",
    "(final['Id'].size*1.0)/(filtered_data['Id'].size*1.0)*100"
   ]
  },
  {
   "cell_type": "markdown",
   "metadata": {},
   "source": [
    "<b>Observation:-</b> It was also seen that in two rows given below the value of HelpfulnessNumerator is greater than HelpfulnessDenominator which is not practically possible hence these two rows too are removed from calcualtions"
   ]
  },
  {
   "cell_type": "code",
   "execution_count": 11,
   "metadata": {},
   "outputs": [
    {
     "data": {
      "text/html": [
       "<div>\n",
       "<style scoped>\n",
       "    .dataframe tbody tr th:only-of-type {\n",
       "        vertical-align: middle;\n",
       "    }\n",
       "\n",
       "    .dataframe tbody tr th {\n",
       "        vertical-align: top;\n",
       "    }\n",
       "\n",
       "    .dataframe thead th {\n",
       "        text-align: right;\n",
       "    }\n",
       "</style>\n",
       "<table border=\"1\" class=\"dataframe\">\n",
       "  <thead>\n",
       "    <tr style=\"text-align: right;\">\n",
       "      <th></th>\n",
       "      <th>Id</th>\n",
       "      <th>ProductId</th>\n",
       "      <th>UserId</th>\n",
       "      <th>ProfileName</th>\n",
       "      <th>HelpfulnessNumerator</th>\n",
       "      <th>HelpfulnessDenominator</th>\n",
       "      <th>Score</th>\n",
       "      <th>Time</th>\n",
       "      <th>Summary</th>\n",
       "      <th>Text</th>\n",
       "    </tr>\n",
       "  </thead>\n",
       "  <tbody>\n",
       "    <tr>\n",
       "      <th>0</th>\n",
       "      <td>64422</td>\n",
       "      <td>B000MIDROQ</td>\n",
       "      <td>A161DK06JJMCYF</td>\n",
       "      <td>J. E. Stephens \"Jeanne\"</td>\n",
       "      <td>3</td>\n",
       "      <td>1</td>\n",
       "      <td>5</td>\n",
       "      <td>1224892800</td>\n",
       "      <td>Bought This for My Son at College</td>\n",
       "      <td>My son loves spaghetti so I didn't hesitate or...</td>\n",
       "    </tr>\n",
       "    <tr>\n",
       "      <th>1</th>\n",
       "      <td>44737</td>\n",
       "      <td>B001EQ55RW</td>\n",
       "      <td>A2V0I904FH7ABY</td>\n",
       "      <td>Ram</td>\n",
       "      <td>3</td>\n",
       "      <td>2</td>\n",
       "      <td>4</td>\n",
       "      <td>1212883200</td>\n",
       "      <td>Pure cocoa taste with crunchy almonds inside</td>\n",
       "      <td>It was almost a 'love at first bite' - the per...</td>\n",
       "    </tr>\n",
       "  </tbody>\n",
       "</table>\n",
       "</div>"
      ],
      "text/plain": [
       "      Id   ProductId          UserId              ProfileName  \\\n",
       "0  64422  B000MIDROQ  A161DK06JJMCYF  J. E. Stephens \"Jeanne\"   \n",
       "1  44737  B001EQ55RW  A2V0I904FH7ABY                      Ram   \n",
       "\n",
       "   HelpfulnessNumerator  HelpfulnessDenominator  Score        Time  \\\n",
       "0                     3                       1      5  1224892800   \n",
       "1                     3                       2      4  1212883200   \n",
       "\n",
       "                                        Summary  \\\n",
       "0             Bought This for My Son at College   \n",
       "1  Pure cocoa taste with crunchy almonds inside   \n",
       "\n",
       "                                                Text  \n",
       "0  My son loves spaghetti so I didn't hesitate or...  \n",
       "1  It was almost a 'love at first bite' - the per...  "
      ]
     },
     "execution_count": 11,
     "metadata": {},
     "output_type": "execute_result"
    }
   ],
   "source": [
    "display= pd.read_sql_query(\"\"\"\n",
    "SELECT *\n",
    "FROM Reviews\n",
    "WHERE Score != 3 AND Id=44737 OR Id=64422\n",
    "ORDER BY ProductID\n",
    "\"\"\", con)\n",
    "\n",
    "display.head()"
   ]
  },
  {
   "cell_type": "code",
   "execution_count": 12,
   "metadata": {},
   "outputs": [],
   "source": [
    "final=final[final.HelpfulnessNumerator<=final.HelpfulnessDenominator]"
   ]
  },
  {
   "cell_type": "code",
   "execution_count": 13,
   "metadata": {},
   "outputs": [
    {
     "name": "stdout",
     "output_type": "stream",
     "text": [
      "(348260, 10)\n"
     ]
    },
    {
     "data": {
      "text/plain": [
       "1    293516\n",
       "0     54744\n",
       "Name: Score, dtype: int64"
      ]
     },
     "execution_count": 13,
     "metadata": {},
     "output_type": "execute_result"
    }
   ],
   "source": [
    "#Before starting the next phase of preprocessing lets see the number of entries left\n",
    "print(final.shape)\n",
    "\n",
    "#How many positive and negative reviews are present in our dataset?\n",
    "final['Score'].value_counts()"
   ]
  },
  {
   "cell_type": "code",
   "execution_count": 14,
   "metadata": {},
   "outputs": [
    {
     "data": {
      "text/plain": [
       "1    293516\n",
       "0     54744\n",
       "Name: Score, dtype: int64"
      ]
     },
     "execution_count": 14,
     "metadata": {},
     "output_type": "execute_result"
    }
   ],
   "source": [
    "final['Score'].value_counts()"
   ]
  },
  {
   "cell_type": "code",
   "execution_count": 15,
   "metadata": {},
   "outputs": [],
   "source": [
    "pos_reviews=final[final['Score']== 1].sample(n=50000)\n",
    "neg_reviews=final[final['Score']== 0].sample(n=50000)\n",
    "a=(pos_reviews,neg_reviews)\n",
    "final=pd.concat(a)"
   ]
  },
  {
   "cell_type": "markdown",
   "metadata": {},
   "source": [
    "# FEATURE ENGINEERING"
   ]
  },
  {
   "cell_type": "code",
   "execution_count": 16,
   "metadata": {},
   "outputs": [
    {
     "data": {
      "text/plain": [
       "346041    True\n",
       "dtype: bool"
      ]
     },
     "execution_count": 16,
     "metadata": {},
     "output_type": "execute_result"
    }
   ],
   "source": [
    "#Concating both the summary and text inorder to improve the model and then using it to test the model\n",
    "\n",
    "#https://stackoverflow.com/questions/19377969/combine-two-columns-of-text-in-dataframe-in-pandas-python\n",
    "\n",
    "final['TEXT_SUMMARY']=final['Text'] +\" \"+ final[\"Summary\"]\n",
    "\n",
    "final=final.sort_values(by='Time')\n",
    "\n",
    "\n",
    "\n",
    "final['TEXT_SUMMARY'][:1]==(final['Text'][:1]+\" \"+final['Summary'][:1])\n"
   ]
  },
  {
   "cell_type": "markdown",
   "metadata": {},
   "source": [
    "#  [3] Preprocessing"
   ]
  },
  {
   "cell_type": "markdown",
   "metadata": {},
   "source": [
    "## [3.1].  Preprocessing Review Text\n",
    "\n",
    "Now that we have finished deduplication our data requires some preprocessing before we go on further with analysis and making the prediction model.\n",
    "\n",
    "Hence in the Preprocessing phase we do the following in the order below:-\n",
    "\n",
    "1. Begin by removing the html tags\n",
    "2. Remove any punctuations or limited set of special characters like , or . or # etc.\n",
    "3. Check if the word is made up of english letters and is not alpha-numeric\n",
    "4. Check to see if the length of the word is greater than 2 (as it was researched that there is no adjective in 2-letters)\n",
    "5. Convert the word to lowercase\n",
    "6. Remove Stopwords\n",
    "7. Finally Snowball Stemming the word (it was obsereved to be better than Porter Stemming)<br>\n",
    "\n",
    "After which we collect the words used to describe positive and negative reviews"
   ]
  },
  {
   "cell_type": "code",
   "execution_count": 17,
   "metadata": {},
   "outputs": [
    {
     "name": "stdout",
     "output_type": "stream",
     "text": [
      "I, myself always enjoyed this movie, it's very funny and entertaining, so I didn't hesitate to pick up the clamshell edition.  I guess it was a marketing plan to make the movie more for families or something, but they  have eliminated all strong profanity and elements that are usually edited  in the television version.  YOU HAVE BEEN WARNED.  If you want the uncut  version, AVOID THE CLAMSHELL EDITION! WARNING: CLAMSHELL EDITION IS EDITED TV VERSION\n"
     ]
    },
    {
     "name": "stderr",
     "output_type": "stream",
     "text": [
      "100%|████████████████████████████████████████████████████████████████████████| 100000/100000 [01:14<00:00, 1344.80it/s]\n"
     ]
    }
   ],
   "source": [
    "# printing some random reviews\n",
    "sent_0 =final['TEXT_SUMMARY'].values[0]\n",
    "\n",
    "\n",
    "sent_1000 =final['TEXT_SUMMARY'].values[1000]\n",
    "\n",
    "\n",
    "sent_1500 =final['TEXT_SUMMARY'].values[1500]\n",
    "\n",
    "\n",
    "sent_4900 =final['TEXT_SUMMARY'].values[4900]\n",
    "\n",
    "\n",
    "# remove urls from text python: https://stackoverflow.com/a/40823105/4084039\n",
    "sent_0 = re.sub(r\"http\\S+\", \"\", sent_0)\n",
    "sent_1000 = re.sub(r\"http\\S+\", \"\", sent_1000)\n",
    "sent_150 = re.sub(r\"http\\S+\", \"\", sent_1500)\n",
    "sent_4900 = re.sub(r\"http\\S+\", \"\", sent_4900)\n",
    "\n",
    "print(sent_0)\n",
    "\n",
    "# https://stackoverflow.com/questions/16206380/python-beautifulsoup-how-to-remove-all-tags-from-an-element\n",
    "from bs4 import BeautifulSoup\n",
    "\n",
    "soup = BeautifulSoup(sent_0, 'lxml')\n",
    "text = soup.get_text()\n",
    "\n",
    "\n",
    "soup = BeautifulSoup(sent_1000, 'lxml')\n",
    "text = soup.get_text()\n",
    "\n",
    "\n",
    "soup = BeautifulSoup(sent_1500, 'lxml')\n",
    "text = soup.get_text()\n",
    "\n",
    "\n",
    "soup = BeautifulSoup(sent_4900, 'lxml')\n",
    "text = soup.get_text()\n",
    "\n",
    "# https://stackoverflow.com/a/47091490/4084039\n",
    "import re\n",
    "\n",
    "def decontracted(phrase):\n",
    "    # specific\n",
    "    phrase = re.sub(r\"won't\", \"will not\", phrase)\n",
    "    phrase = re.sub(r\"can\\'t\", \"can not\", phrase)\n",
    "\n",
    "    # general\n",
    "    phrase = re.sub(r\"n\\'t\", \" not\", phrase)\n",
    "    phrase = re.sub(r\"\\'re\", \" are\", phrase)\n",
    "    phrase = re.sub(r\"\\'s\", \" is\", phrase)\n",
    "    phrase = re.sub(r\"\\'d\", \" would\", phrase)\n",
    "    phrase = re.sub(r\"\\'ll\", \" will\", phrase)\n",
    "    phrase = re.sub(r\"\\'t\", \" not\", phrase)\n",
    "    phrase = re.sub(r\"\\'ve\", \" have\", phrase)\n",
    "    phrase = re.sub(r\"\\'m\", \" am\", phrase)\n",
    "    return phrase\n",
    "\n",
    "sent_1500 = decontracted(sent_1500)\n",
    "\n",
    "\n",
    "#remove words with numbers python: https://stackoverflow.com/a/18082370/4084039\n",
    "sent_0 = re.sub(\"\\S*\\d\\S*\", \"\", sent_0).strip()\n",
    "\n",
    "\n",
    "#remove spacial character: https://stackoverflow.com/a/5843547/4084039\n",
    "sent_1500 = re.sub('[^A-Za-z0-9]+', ' ', sent_1500)\n",
    "\n",
    "\n",
    "# https://gist.github.com/sebleier/554280\n",
    "# we are removing the words from the stop words list: 'no', 'nor', 'not'\n",
    "# <br /><br /> ==> after the above steps, we are getting \"br br\"\n",
    "# we are including them into stop words list\n",
    "# instead of <br /> if we have <br/> these tags would have revmoved in the 1st step\n",
    "\n",
    "stopwords= set(['br', 'the', 'i', 'me', 'my', 'myself', 'we', 'our', 'ours', 'ourselves', 'you', \"you're\", \"you've\",\\\n",
    "            \"you'll\", \"you'd\", 'your', 'yours', 'yourself', 'yourselves', 'he', 'him', 'his', 'himself', \\\n",
    "            'she', \"she's\", 'her', 'hers', 'herself', 'it', \"it's\", 'its', 'itself', 'they', 'them', 'their',\\\n",
    "            'theirs', 'themselves', 'what', 'which', 'who', 'whom', 'this', 'that', \"that'll\", 'these', 'those', \\\n",
    "            'am', 'is', 'are', 'was', 'were', 'be', 'been', 'being', 'have', 'has', 'had', 'having', 'do', 'does', \\\n",
    "            'did', 'doing', 'a', 'an', 'the', 'and', 'but', 'if', 'or', 'because', 'as', 'until', 'while', 'of', \\\n",
    "            'at', 'by', 'for', 'with', 'about', 'against', 'between', 'into', 'through', 'during', 'before', 'after',\\\n",
    "            'above', 'below', 'to', 'from', 'up', 'down', 'in', 'out', 'on', 'off', 'over', 'under', 'again', 'further',\\\n",
    "            'then', 'once', 'here', 'there', 'when', 'where', 'why', 'how', 'all', 'any', 'both', 'each', 'few', 'more',\\\n",
    "            'most', 'other', 'some', 'such', 'only', 'own', 'same', 'so', 'than', 'too', 'very', \\\n",
    "            's', 't', 'can', 'will', 'just', 'don', \"don't\", 'should', \"should've\", 'now', 'd', 'll', 'm', 'o', 're', \\\n",
    "            've', 'y', 'ain', 'aren', \"aren't\", 'couldn', \"couldn't\", 'didn', \"didn't\", 'doesn', \"doesn't\", 'hadn',\\\n",
    "            \"hadn't\", 'hasn', \"hasn't\", 'haven', \"haven't\", 'isn', \"isn't\", 'ma', 'mightn', \"mightn't\", 'mustn',\\\n",
    "            \"mustn't\", 'needn', \"needn't\", 'shan', \"shan't\", 'shouldn', \"shouldn't\", 'wasn', \"wasn't\", 'weren', \"weren't\", \\\n",
    "            'won', \"won't\", 'wouldn', \"wouldn't\"])\n",
    "\n",
    "# Combining all the above stundents \n",
    "from tqdm import tqdm\n",
    "preprocessed_reviews = []\n",
    "# tqdm is for printing the status bar\n",
    "for sentance in tqdm(final['Text'].values):\n",
    "    sentance = re.sub(r\"http\\S+\", \"\", sentance)\n",
    "    sentance = BeautifulSoup(sentance, 'lxml').get_text()\n",
    "    sentance = decontracted(sentance)\n",
    "    sentance = re.sub(\"\\S*\\d\\S*\", \"\", sentance).strip()\n",
    "    sentance = re.sub('[^A-Za-z]+', ' ', sentance)\n",
    "    # https://gist.github.com/sebleier/554280\n",
    "    sentance = ' '.join(e.lower() for e in sentance.split() if e.lower() not in stopwords)\n",
    "    preprocessed_reviews.append(sentance.strip())"
   ]
  },
  {
   "cell_type": "code",
   "execution_count": 18,
   "metadata": {},
   "outputs": [
    {
     "data": {
      "text/plain": [
       "'course prefer freshly made espresso sometimes instant good pinch travel around europe extensively several brands available not bad brand ok using coffee flavoring custards etc beverage rates rock bottom book'"
      ]
     },
     "execution_count": 18,
     "metadata": {},
     "output_type": "execute_result"
    }
   ],
   "source": [
    "preprocessed_reviews[1500]"
   ]
  },
  {
   "cell_type": "code",
   "execution_count": 19,
   "metadata": {},
   "outputs": [],
   "source": [
    "import pickle\n",
    "with open(\"final['Score'].pkl\",'wb') as f:\n",
    "    pickle.dump(final['Score'],f)\n",
    "\n",
    "with open(\"preprocessed_reviews.pkl\",'wb') as f:\n",
    "    pickle.dump(preprocessed_reviews,f)\n"
   ]
  },
  {
   "cell_type": "markdown",
   "metadata": {},
   "source": [
    "# [4] Featurization"
   ]
  },
  {
   "cell_type": "code",
   "execution_count": 20,
   "metadata": {},
   "outputs": [
    {
     "data": {
      "text/plain": [
       "100000"
      ]
     },
     "execution_count": 20,
     "metadata": {},
     "output_type": "execute_result"
    }
   ],
   "source": [
    "len(preprocessed_reviews)"
   ]
  },
  {
   "cell_type": "code",
   "execution_count": 21,
   "metadata": {},
   "outputs": [
    {
     "data": {
      "text/plain": [
       "100000"
      ]
     },
     "execution_count": 21,
     "metadata": {},
     "output_type": "execute_result"
    }
   ],
   "source": [
    "len(final['Score'])"
   ]
  },
  {
   "cell_type": "code",
   "execution_count": 22,
   "metadata": {},
   "outputs": [],
   "source": [
    "# SPLITTING THE DATA INTO TEST TRAIN AND CV\n",
    "\n",
    "y_train= final['Score'][:60000]\n",
    "y_cv=    final['Score'][60000:80000]\n",
    "y_test=  final['Score'][80000:100000]\n",
    "\n",
    "x_train= preprocessed_reviews[:60000]\n",
    "x_cv=    preprocessed_reviews[60000:80000]\n",
    "x_test=  preprocessed_reviews[80000:100000]\n",
    "\n"
   ]
  },
  {
   "cell_type": "markdown",
   "metadata": {},
   "source": [
    "## [4.1] BAG OF WORDS"
   ]
  },
  {
   "cell_type": "code",
   "execution_count": 23,
   "metadata": {},
   "outputs": [
    {
     "name": "stdout",
     "output_type": "stream",
     "text": [
      "VECTOR OF THE TEXT AND SUMMARY\n",
      "-------------------------------------------\n",
      "the type of count vectorizer  <class 'scipy.sparse.csr.csr_matrix'>\n",
      "the shape of out text BOW vectorizer  (60000, 47607)\n",
      "the number of unique words  47607\n",
      "********************************************\n",
      "the type of count vectorizer  <class 'scipy.sparse.csr.csr_matrix'>\n",
      "the shape of out text BOW vectorizer  (20000, 47607)\n",
      "the number of unique words  47607\n",
      "the type of count vectorizer  <class 'scipy.sparse.csr.csr_matrix'>\n",
      "the shape of out text BOW vectorizer  (20000, 47607)\n",
      "the number of unique words  47607\n"
     ]
    }
   ],
   "source": [
    "print(\"VECTOR OF THE TEXT AND SUMMARY\")\n",
    "print(\"-------------------------------------------\")\n",
    "#train_BoW\n",
    "\n",
    "count_vect = CountVectorizer() #in scikit-learn\n",
    "train_bow  = count_vect.fit_transform(x_train )\n",
    "print(\"the type of count vectorizer \",type(train_bow ))\n",
    "print(\"the shape of out text BOW vectorizer \",train_bow .get_shape())\n",
    "print(\"the number of unique words \", train_bow .get_shape()[1])\n",
    "print(\"********************************************\")\n",
    "#cv_BoW\n",
    "cv_bow  = count_vect.transform(x_cv )\n",
    "print(\"the type of count vectorizer \",type(cv_bow ))\n",
    "print(\"the shape of out text BOW vectorizer \",cv_bow .get_shape())\n",
    "print(\"the number of unique words \", cv_bow .get_shape()[1])\n",
    "#cv_BoW\n",
    "#cv_BoW\n",
    "test_bow  = count_vect.transform(x_test )\n",
    "print(\"the type of count vectorizer \",type(test_bow ))\n",
    "print(\"the shape of out text BOW vectorizer \",test_bow .get_shape())\n",
    "print(\"the number of unique words \", test_bow .get_shape()[1])\n"
   ]
  },
  {
   "cell_type": "markdown",
   "metadata": {},
   "source": [
    "\n",
    "\n",
    "## [4.2] Bi-Grams and n-Grams."
   ]
  },
  {
   "cell_type": "code",
   "execution_count": 24,
   "metadata": {},
   "outputs": [
    {
     "name": "stdout",
     "output_type": "stream",
     "text": [
      "the type of count vectorizer  <class 'scipy.sparse.csr.csr_matrix'>\n",
      "the shape of out text BOW vectorizer  (100000, 500)\n",
      "the number of unique words including both unigrams and bigrams  500\n"
     ]
    }
   ],
   "source": [
    "#bi-gram, tri-gram and n-gram\n",
    "\n",
    "#removing stop words like \"not\" should be avoided before building n-grams\n",
    "# count_vect = CountVectorizer(ngram_range=(1,2))\n",
    "# please do read the CountVectorizer documentation http://scikit-learn.org/stable/modules/generated/sklearn.feature_extraction.text.CountVectorizer.html\n",
    "\n",
    "# you can choose these numebrs min_df=10, max_features=5000, of your choice\n",
    "count_vect = CountVectorizer(ngram_range=(1,2), min_df=10, max_features=500)\n",
    "final_bigram_counts = count_vect.fit_transform(preprocessed_reviews)\n",
    "print(\"the type of count vectorizer \",type(final_bigram_counts))\n",
    "print(\"the shape of out text BOW vectorizer \",final_bigram_counts.get_shape())\n",
    "print(\"the number of unique words including both unigrams and bigrams \", final_bigram_counts.get_shape()[1])"
   ]
  },
  {
   "cell_type": "markdown",
   "metadata": {},
   "source": [
    "## [4.3] TF-IDF"
   ]
  },
  {
   "cell_type": "code",
   "execution_count": 25,
   "metadata": {},
   "outputs": [
    {
     "name": "stdout",
     "output_type": "stream",
     "text": [
      "VECTOR OF TEXT AND SUMMARY\n",
      "                                  \n",
      "the type of count vectorizer  <class 'scipy.sparse.csr.csr_matrix'>\n",
      "the shape of out text TFIDF vectorizer  (60000, 500)\n",
      "the number of unique words including both unigrams and bigrams  500\n",
      "the type of count vectorizer  <class 'scipy.sparse.csr.csr_matrix'>\n",
      "the shape of out text TFIDF vectorizer  (20000, 500)\n",
      "the number of unique words including both unigrams and bigrams  500\n",
      "the type of count vectorizer  <class 'scipy.sparse.csr.csr_matrix'>\n",
      "the shape of out text TFIDF vectorizer  (20000, 500)\n",
      "the number of unique words including both unigrams and bigrams  500\n"
     ]
    }
   ],
   "source": [
    "print(\"VECTOR OF TEXT AND SUMMARY\")\n",
    "print(\"                                  \")\n",
    "#tfidf_train\n",
    "tf_idf_vect = TfidfVectorizer(ngram_range=(1,2),min_df=10, max_features=500)\n",
    "train_tf_idf = tf_idf_vect.fit_transform(x_train)\n",
    "print(\"the type of count vectorizer \",type(train_tf_idf))\n",
    "print(\"the shape of out text TFIDF vectorizer \",train_tf_idf.get_shape())\n",
    "print(\"the number of unique words including both unigrams and bigrams \", train_tf_idf.get_shape()[1])\n",
    "# tfidf_test\n",
    "test_tf_idf = tf_idf_vect.transform(x_test)\n",
    "print(\"the type of count vectorizer \",type(test_tf_idf))\n",
    "print(\"the shape of out text TFIDF vectorizer \",test_tf_idf.get_shape())\n",
    "print(\"the number of unique words including both unigrams and bigrams \", test_tf_idf.get_shape()[1])\n",
    "\n",
    "# tdidf_cv\n",
    "cv_tf_idf = tf_idf_vect.transform(x_cv)\n",
    "print(\"the type of count vectorizer \",type(cv_tf_idf))\n",
    "print(\"the shape of out text TFIDF vectorizer \",cv_tf_idf.get_shape())\n",
    "print(\"the number of unique words including both unigrams and bigrams \", cv_tf_idf.get_shape()[1])"
   ]
  },
  {
   "cell_type": "markdown",
   "metadata": {},
   "source": [
    "## [4.3] AVG Word2Vec"
   ]
  },
  {
   "cell_type": "code",
   "execution_count": 31,
   "metadata": {},
   "outputs": [
    {
     "name": "stdout",
     "output_type": "stream",
     "text": [
      "number of words that occured minimum 5 times  15358\n",
      "sample words  ['little', 'book', 'makes', 'son', 'laugh', 'loud', 'car', 'driving', 'along', 'always', 'sing', 'refrain', 'learned', 'india', 'roses', 'love', 'new', 'words', 'classic', 'willing', 'bet', 'still', 'able', 'memory', 'college', 'beetlejuice', 'well', 'written', 'movie', 'everything', 'excellent', 'acting', 'special', 'effects', 'delighted', 'chose', 'view', 'enjoyed', 'funny', 'entertaining', 'not', 'hesitate', 'pick', 'edition', 'guess', 'marketing', 'plan', 'make', 'families', 'something']\n"
     ]
    },
    {
     "name": "stderr",
     "output_type": "stream",
     "text": [
      "100%|██████████████████████████████████████████████████████████████████████████| 60000/60000 [00:17<00:00, 3502.66it/s]\n"
     ]
    },
    {
     "name": "stdout",
     "output_type": "stream",
     "text": [
      "60000\n",
      "50\n",
      "number of words that occured minimum 5 times  15358\n",
      "sample words  ['little', 'book', 'makes', 'son', 'laugh', 'loud', 'car', 'driving', 'along', 'always', 'sing', 'refrain', 'learned', 'india', 'roses', 'love', 'new', 'words', 'classic', 'willing', 'bet', 'still', 'able', 'memory', 'college', 'beetlejuice', 'well', 'written', 'movie', 'everything', 'excellent', 'acting', 'special', 'effects', 'delighted', 'chose', 'view', 'enjoyed', 'funny', 'entertaining', 'not', 'hesitate', 'pick', 'edition', 'guess', 'marketing', 'plan', 'make', 'families', 'something']\n"
     ]
    },
    {
     "name": "stderr",
     "output_type": "stream",
     "text": [
      "100%|██████████████████████████████████████████████████████████████████████████| 20000/20000 [00:05<00:00, 3408.43it/s]\n"
     ]
    },
    {
     "name": "stdout",
     "output_type": "stream",
     "text": [
      "20000\n",
      "50\n",
      "number of words that occured minimum 5 times  15358\n",
      "sample words  ['little', 'book', 'makes', 'son', 'laugh', 'loud', 'car', 'driving', 'along', 'always', 'sing', 'refrain', 'learned', 'india', 'roses', 'love', 'new', 'words', 'classic', 'willing', 'bet', 'still', 'able', 'memory', 'college', 'beetlejuice', 'well', 'written', 'movie', 'everything', 'excellent', 'acting', 'special', 'effects', 'delighted', 'chose', 'view', 'enjoyed', 'funny', 'entertaining', 'not', 'hesitate', 'pick', 'edition', 'guess', 'marketing', 'plan', 'make', 'families', 'something']\n"
     ]
    },
    {
     "name": "stderr",
     "output_type": "stream",
     "text": [
      "100%|██████████████████████████████████████████████████████████████████████████| 20000/20000 [00:05<00:00, 3370.63it/s]\n"
     ]
    },
    {
     "name": "stdout",
     "output_type": "stream",
     "text": [
      "20000\n",
      "50\n"
     ]
    }
   ],
   "source": [
    "# Train your own Word2Vec model using your own text corpus\n",
    "i=0\n",
    "list_of_sentance=[]\n",
    "for sentance in x_train:\n",
    "    list_of_sentance.append(sentance.split())\n",
    "\n",
    "w2v_model=Word2Vec(list_of_sentance,min_count=5,size=50, workers=4)\n",
    "    \n",
    "\n",
    "list=[]\n",
    "w2v_words_dict = (w2v_model.wv.vocab)\n",
    "w2v_words=w2v_words_dict.keys()\n",
    "list=[]\n",
    "print(\"number of words that occured minimum 5 times \",len(w2v_words))\n",
    "for i in w2v_words:\n",
    "    list.append(i)\n",
    "print(\"sample words \", list[0:50])\n",
    "\n",
    "\n",
    "# average Word2Vec\n",
    "# compute average word2vec for each review.\n",
    "sent_vectors_train= []; # the avg-w2v for each sentence/review is stored in this list\n",
    "for sent in tqdm(list_of_sentance): # for each review/sentence\n",
    "    sent_vec = np.zeros(50) # as word vectors are of zero length 50, you might need to change this to 300 if you use google's w2v\n",
    "    cnt_words =0; # num of words with a valid vector in the sentence/review\n",
    "    for word in sent: # for each word in a review/sentence\n",
    "        if word in w2v_words:\n",
    "            vec = w2v_model.wv[word]\n",
    "            sent_vec += vec\n",
    "            cnt_words += 1\n",
    "    if cnt_words != 0:\n",
    "        sent_vec /= cnt_words\n",
    "    sent_vectors_train.append(sent_vec)\n",
    "print(len(sent_vectors_train))\n",
    "print(len(sent_vectors_train[0]))\n",
    "\n",
    "## [4.4] Word2Vec\n",
    "\n",
    "# Train your own Word2Vec model using your own text corpus\n",
    "i=0\n",
    "list_of_sentance=[]\n",
    "for sentance in x_cv:\n",
    "    list_of_sentance.append(sentance.split())\n",
    "\n",
    "list=[]\n",
    "w2v_words_dict = (w2v_model.wv.vocab)\n",
    "w2v_words=w2v_words_dict.keys()\n",
    "list=[]\n",
    "print(\"number of words that occured minimum 5 times \",len(w2v_words))\n",
    "for i in w2v_words:\n",
    "    list.append(i)\n",
    "print(\"sample words \", list[0:50])\n",
    "\n",
    "\n",
    "# average Word2Vec\n",
    "# compute average word2vec for each review.\n",
    "sent_vectors_cv = []; # the avg-w2v for each sentence/review is stored in this list\n",
    "for sent in tqdm(list_of_sentance): # for each review/sentence\n",
    "    sent_vec = np.zeros(50) # as word vectors are of zero length 50, you might need to change this to 300 if you use google's w2v\n",
    "    cnt_words =0; # num of words with a valid vector in the sentence/review\n",
    "    for word in sent: # for each word in a review/sentence\n",
    "        if word in w2v_words:\n",
    "            vec = w2v_model.wv[word]\n",
    "            sent_vec += vec\n",
    "            cnt_words += 1\n",
    "    if cnt_words != 0:\n",
    "        sent_vec /= cnt_words\n",
    "    sent_vectors_cv.append(sent_vec)\n",
    "print(len(sent_vectors_cv))\n",
    "print(len(sent_vectors_cv[0]))\n",
    "\n",
    "## [4.4] Word2Vec\n",
    "\n",
    "# Train your own Word2Vec model using your own text corpus\n",
    "i=0\n",
    "list_of_sentance=[]\n",
    "for sentance in x_test:\n",
    "    list_of_sentance.append(sentance.split())\n",
    "                            \n",
    "\n",
    "list=[]\n",
    "w2v_words_dict = (w2v_model.wv.vocab)\n",
    "w2v_words=w2v_words_dict.keys()\n",
    "list=[]\n",
    "print(\"number of words that occured minimum 5 times \",len(w2v_words))\n",
    "for i in w2v_words:\n",
    "    list.append(i)\n",
    "print(\"sample words \", list[0:50])\n",
    "\n",
    "\n",
    "# average Word2Vec\n",
    "# compute average word2vec for each review.\n",
    "sent_vectors_test = []; # the avg-w2v for each sentence/review is stored in this list\n",
    "for sent in tqdm(list_of_sentance): # for each review/sentence\n",
    "    sent_vec = np.zeros(50) # as word vectors are of zero length 50, you might need to change this to 300 if you use google's w2v\n",
    "    cnt_words =0; # num of words with a valid vector in the sentence/review\n",
    "    for word in sent: # for each word in a review/sentence\n",
    "        if word in w2v_words:\n",
    "            vec = w2v_model.wv[word]\n",
    "            sent_vec += vec\n",
    "            cnt_words += 1\n",
    "    if cnt_words != 0:\n",
    "        sent_vec /= cnt_words\n",
    "    sent_vectors_test.append(sent_vec)\n",
    "print(len(sent_vectors_test))\n",
    "print(len(sent_vectors_test[0]))"
   ]
  },
  {
   "cell_type": "markdown",
   "metadata": {},
   "source": [
    "## TFIDF-W2V"
   ]
  },
  {
   "cell_type": "code",
   "execution_count": 32,
   "metadata": {},
   "outputs": [
    {
     "name": "stdout",
     "output_type": "stream",
     "text": [
      "number of words that occured minimum 5 times  15358\n",
      "sample words  ['little', 'book', 'makes', 'son', 'laugh', 'loud', 'car', 'driving', 'along', 'always', 'sing', 'refrain', 'learned', 'india', 'roses', 'love', 'new', 'words', 'classic', 'willing', 'bet', 'still', 'able', 'memory', 'college', 'beetlejuice', 'well', 'written', 'movie', 'everything', 'excellent', 'acting', 'special', 'effects', 'delighted', 'chose', 'view', 'enjoyed', 'funny', 'entertaining', 'not', 'hesitate', 'pick', 'edition', 'guess', 'marketing', 'plan', 'make', 'families', 'something']\n"
     ]
    },
    {
     "name": "stderr",
     "output_type": "stream",
     "text": [
      "100%|████████████████████████████████████████████████████████████████████████████| 60000/60000 [59:48<00:00, 16.72it/s]\n"
     ]
    },
    {
     "name": "stdout",
     "output_type": "stream",
     "text": [
      "number of words that occured minimum 5 times  15358\n",
      "sample words  ['little', 'book', 'makes', 'son', 'laugh', 'loud', 'car', 'driving', 'along', 'always', 'sing', 'refrain', 'learned', 'india', 'roses', 'love', 'new', 'words', 'classic', 'willing', 'bet', 'still', 'able', 'memory', 'college', 'beetlejuice', 'well', 'written', 'movie', 'everything', 'excellent', 'acting', 'special', 'effects', 'delighted', 'chose', 'view', 'enjoyed', 'funny', 'entertaining', 'not', 'hesitate', 'pick', 'edition', 'guess', 'marketing', 'plan', 'make', 'families', 'something']\n"
     ]
    },
    {
     "name": "stderr",
     "output_type": "stream",
     "text": [
      "100%|████████████████████████████████████████████████████████████████████████████| 20000/20000 [05:43<00:00, 58.21it/s]\n"
     ]
    },
    {
     "name": "stdout",
     "output_type": "stream",
     "text": [
      "number of words that occured minimum 5 times  15358\n",
      "sample words  ['little', 'book', 'makes', 'son', 'laugh', 'loud', 'car', 'driving', 'along', 'always', 'sing', 'refrain', 'learned', 'india', 'roses', 'love', 'new', 'words', 'classic', 'willing', 'bet', 'still', 'able', 'memory', 'college', 'beetlejuice', 'well', 'written', 'movie', 'everything', 'excellent', 'acting', 'special', 'effects', 'delighted', 'chose', 'view', 'enjoyed', 'funny', 'entertaining', 'not', 'hesitate', 'pick', 'edition', 'guess', 'marketing', 'plan', 'make', 'families', 'something']\n"
     ]
    },
    {
     "name": "stderr",
     "output_type": "stream",
     "text": [
      "100%|████████████████████████████████████████████████████████████████████████████| 20000/20000 [05:45<00:00, 57.89it/s]\n"
     ]
    }
   ],
   "source": [
    "## [4.4] Word2Vec\n",
    "\n",
    "# Train your own Word2Vec model using your own text corpus\n",
    "i=0\n",
    "list_of_sentance=[]\n",
    "for sentance in x_train:\n",
    "    list_of_sentance.append(sentance.split())\n",
    "                            \n",
    "\n",
    "list=[]\n",
    "w2v_words_dict = (w2v_model.wv.vocab)\n",
    "w2v_words=w2v_words_dict.keys()\n",
    "list=[]\n",
    "print(\"number of words that occured minimum 5 times \",len(w2v_words))\n",
    "for i in w2v_words:\n",
    "    list.append(i)\n",
    "print(\"sample words \", list[0:50])\n",
    "\n",
    "\n",
    "# S = [\"abc def pqr\", \"def def def abc\", \"pqr pqr def\"]\n",
    "model = TfidfVectorizer()\n",
    "tf_idf_matrix = model.fit_transform(x_train)\n",
    "# we are converting a dictionary with word as a key, and the idf as a value\n",
    "list=[]\n",
    "for i in model.idf_:\n",
    "    list.append(i)\n",
    "dictionary = dict(zip(model.get_feature_names(), list))\n",
    "\n",
    "# TF-IDF weighted Word2Vec\n",
    "tfidf_feat = model.get_feature_names() # tfidf words/col-names\n",
    "# final_tf_idf is the sparse matrix with row= sentence, col=word and cell_val = tfidf\n",
    "\n",
    "tfidf_sent_vectors_train = []; # the tfidf-w2v for each sentence/review is stored in this list\n",
    "row=0;\n",
    "for sent in tqdm(list_of_sentance): # for each review/sentence \n",
    "    sent_vec = np.zeros(50) # as word vectors are of zero length\n",
    "    weight_sum =0; # num of words with a valid vector in the sentence/review\n",
    "    for word in sent: # for each word in a review/sentence\n",
    "        if word in w2v_words and word in tfidf_feat:\n",
    "            vec = w2v_model.wv[word]\n",
    "#             tf_idf = tf_idf_matrix[row, tfidf_feat.index(word)]\n",
    "            # to reduce the computation we are \n",
    "            # dictionary[word] = idf value of word in whole courpus\n",
    "            # sent.count(word) = tf valeus of word in this review\n",
    "            tf_idf = dictionary[word]*(sent.count(word)/len(sent))\n",
    "            sent_vec += (vec * tf_idf)\n",
    "            weight_sum += tf_idf\n",
    "    if weight_sum != 0:\n",
    "        sent_vec /= weight_sum\n",
    "    tfidf_sent_vectors_train.append(sent_vec)\n",
    "    row += 1\n",
    "\n",
    "## [4.4] Word2Vec\n",
    "\n",
    "# Train your own Word2Vec model using your own text corpus\n",
    "i=0\n",
    "list_of_sentance=[]\n",
    "for sentance in x_cv:\n",
    "    list_of_sentance.append(sentance.split())\n",
    "                            \n",
    "\n",
    "list=[]\n",
    "w2v_words_dict = (w2v_model.wv.vocab)\n",
    "w2v_words=w2v_words_dict.keys()\n",
    "list=[]\n",
    "print(\"number of words that occured minimum 5 times \",len(w2v_words))\n",
    "for i in w2v_words:\n",
    "    list.append(i)\n",
    "print(\"sample words \", list[0:50])\n",
    "\n",
    "\n",
    "# S = [\"abc def pqr\", \"def def def abc\", \"pqr pqr def\"]\n",
    "model = TfidfVectorizer()\n",
    "tf_idf_matrix = model.fit_transform(x_cv)\n",
    "# we are converting a dictionary with word as a key, and the idf as a value\n",
    "list=[]\n",
    "for i in model.idf_:\n",
    "    list.append(i)\n",
    "dictionary = dict(zip(model.get_feature_names(), list))\n",
    "\n",
    "# TF-IDF weighted Word2Vec\n",
    "tfidf_feat = model.get_feature_names() # tfidf words/col-names\n",
    "# final_tf_idf is the sparse matrix with row= sentence, col=word and cell_val = tfidf\n",
    "\n",
    "tfidf_sent_vectors_cv = []; # the tfidf-w2v for each sentence/review is stored in this list\n",
    "row=0;\n",
    "for sent in tqdm(list_of_sentance): # for each review/sentence \n",
    "    sent_vec = np.zeros(50) # as word vectors are of zero length\n",
    "    weight_sum =0; # num of words with a valid vector in the sentence/review\n",
    "    for word in sent: # for each word in a review/sentence\n",
    "        if word in w2v_words and word in tfidf_feat:\n",
    "            vec = w2v_model.wv[word]\n",
    "#             tf_idf = tf_idf_matrix[row, tfidf_feat.index(word)]\n",
    "            # to reduce the computation we are \n",
    "            # dictionary[word] = idf value of word in whole courpus\n",
    "            # sent.count(word) = tf valeus of word in this review\n",
    "            tf_idf = dictionary[word]*(sent.count(word)/len(sent))\n",
    "            sent_vec += (vec * tf_idf)\n",
    "            weight_sum += tf_idf\n",
    "    if weight_sum != 0:\n",
    "        sent_vec /= weight_sum\n",
    "    tfidf_sent_vectors_cv.append(sent_vec)\n",
    "    row += 1\n",
    "\n",
    "## [4.4] Word2Vec\n",
    "\n",
    "# Train your own Word2Vec model using your own text corpus\n",
    "i=0\n",
    "list_of_sentance=[]\n",
    "for sentance in x_test:\n",
    "    list_of_sentance.append(sentance.split())\n",
    "                            \n",
    "\n",
    "list=[]\n",
    "w2v_words_dict = (w2v_model.wv.vocab)\n",
    "w2v_words=w2v_words_dict.keys()\n",
    "list=[]\n",
    "print(\"number of words that occured minimum 5 times \",len(w2v_words))\n",
    "for i in w2v_words:\n",
    "    list.append(i)\n",
    "print(\"sample words \", list[0:50])\n",
    "\n",
    "\n",
    "# S = [\"abc def pqr\", \"def def def abc\", \"pqr pqr def\"]\n",
    "model = TfidfVectorizer()\n",
    "tf_idf_matrix = model.fit_transform(x_test)\n",
    "# we are converting a dictionary with word as a key, and the idf as a value\n",
    "list=[]\n",
    "for i in model.idf_:\n",
    "    list.append(i)\n",
    "dictionary = dict(zip(model.get_feature_names(), list))\n",
    "\n",
    "# TF-IDF weighted Word2Vec\n",
    "Tfidf_feat = model.get_feature_names() # Tfidf words/col-names\n",
    "# final_tf_idf is the sparse matrix with row= sentence, col=word and cell_val = Tfidf\n",
    "\n",
    "Tfidf_sent_vectors_test = []; # the Tfidf-w2v for each sentence/review is stored in this list\n",
    "row=0;\n",
    "for sent in tqdm(list_of_sentance): # for each review/sentence \n",
    "    sent_vec = np.zeros(50) # as word vectors are of zero length\n",
    "    weight_sum =0; # num of words with a valid vector in the sentence/review\n",
    "    for word in sent: # for each word in a review/sentence\n",
    "        if word in w2v_words and word in Tfidf_feat:\n",
    "            vec = w2v_model.wv[word]\n",
    "#             tf_idf = tf_idf_matrix[row, Tfidf_feat.index(word)]\n",
    "            # to reduce the computation we are \n",
    "            # dictionary[word] = idf value of word in whole courpus\n",
    "            # sent.count(word) = tf valeus of word in this review\n",
    "            tf_idf = dictionary[word]*(sent.count(word)/len(sent))\n",
    "            sent_vec += (vec * tf_idf)\n",
    "            weight_sum += tf_idf\n",
    "    if weight_sum != 0:\n",
    "        sent_vec /= weight_sum\n",
    "    Tfidf_sent_vectors_test.append(sent_vec)\n",
    "    row += 1"
   ]
  },
  {
   "cell_type": "code",
   "execution_count": 33,
   "metadata": {},
   "outputs": [
    {
     "name": "stderr",
     "output_type": "stream",
     "text": [
      "D:\\python\\lib\\site-packages\\sklearn\\utils\\validation.py:475: DataConversionWarning: Data with input dtype int64 was converted to float64 by StandardScaler.\n",
      "  warnings.warn(msg, DataConversionWarning)\n",
      "D:\\python\\lib\\site-packages\\sklearn\\utils\\validation.py:475: DataConversionWarning: Data with input dtype int64 was converted to float64 by StandardScaler.\n",
      "  warnings.warn(msg, DataConversionWarning)\n",
      "D:\\python\\lib\\site-packages\\sklearn\\utils\\validation.py:475: DataConversionWarning: Data with input dtype int64 was converted to float64 by StandardScaler.\n",
      "  warnings.warn(msg, DataConversionWarning)\n",
      "D:\\python\\lib\\site-packages\\sklearn\\utils\\validation.py:475: DataConversionWarning: Data with input dtype int64 was converted to float64 by StandardScaler.\n",
      "  warnings.warn(msg, DataConversionWarning)\n"
     ]
    }
   ],
   "source": [
    "from sklearn.preprocessing import StandardScaler \n",
    "scaler= StandardScaler(with_mean=False)\n",
    "train_bow = scaler.fit_transform (train_bow)\n",
    "cv_bow=scaler.transform(cv_bow)\n",
    "test_bow=scaler.transform(test_bow)"
   ]
  },
  {
   "cell_type": "code",
   "execution_count": 34,
   "metadata": {},
   "outputs": [],
   "source": [
    "scaler= StandardScaler(with_mean=False)\n",
    "train_tf_idf = scaler.fit_transform(train_tf_idf)\n",
    "cv_tf_idf=scaler.transform(cv_tf_idf)\n",
    "test_tf_idf=scaler.transform(test_tf_idf)"
   ]
  },
  {
   "cell_type": "code",
   "execution_count": 35,
   "metadata": {},
   "outputs": [],
   "source": [
    "scaler= StandardScaler()\n",
    "sent_vectors_train = scaler.fit_transform(sent_vectors_train)\n",
    "sent_vectors_cv=scaler.transform(sent_vectors_cv)\n",
    "sent_vectors_test=scaler.transform(sent_vectors_test)"
   ]
  },
  {
   "cell_type": "code",
   "execution_count": 36,
   "metadata": {},
   "outputs": [],
   "source": [
    "scaler= StandardScaler()\n",
    "\n",
    "tfidf_sent_vectors_cv=scaler.fit_transform(tfidf_sent_vectors_cv)\n",
    "tfidf_sent_vectors_test=scaler.transform(Tfidf_sent_vectors_test)\n",
    "tfidf_sent_vectors_train=scaler.transform(tfidf_sent_vectors_train)"
   ]
  },
  {
   "cell_type": "markdown",
   "metadata": {},
   "source": [
    "# Applying Decision Trees"
   ]
  },
  {
   "cell_type": "code",
   "execution_count": 26,
   "metadata": {},
   "outputs": [],
   "source": [
    "# Please write all the code with proper documentation\n",
    "# Please write all the code with proper documentation\n",
    "import math\n",
    "from sklearn.tree import DecisionTreeClassifier\n",
    "from sklearn.datasets import load_iris\n",
    "from sklearn.metrics import roc_auc_score\n",
    "\n",
    "def SimpleCrossValidation_min(x_train,x_cv,pred_train_data,pred_cv_data,x_test):\n",
    "    print(\"AFTER FEATURE ENGINEERING\")\n",
    "    list_train=[]\n",
    "    list_cv=[]\n",
    "    min=[5,10,100,500]\n",
    "    for i in min:\n",
    "        \n",
    "     \n",
    "        clf=DecisionTreeClassifier(class_weight='balanced', criterion='gini', max_depth=1000,\n",
    "             max_leaf_nodes=1000,\n",
    "            min_impurity_split=None, min_samples_leaf=100,\n",
    "            min_samples_split=i, \n",
    "            splitter='best')\n",
    "        # fitting the model on crossvalidation traincc\n",
    "        clf.fit(x_train, y_train)\n",
    "         \n",
    "         \n",
    "        predicted_train=[]\n",
    "        pred_train=[]\n",
    "        predicted_cv=[]\n",
    "        pred_cv=[]\n",
    "        # predict the response on the train \n",
    "       \n",
    "        for j in range(0,60000,1000):\n",
    "                predicted_train =clf.predict_proba(pred_train_data[j:(j+1000)])\n",
    "                pred_train.extend(predicted_train[:,1])\n",
    "\n",
    "        # predict the response on the crossvalidation \n",
    "        \n",
    "        for j in range(0,20000,1000):\n",
    "                predicted_cv =clf.predict_proba(pred_cv_data[j:(j+1000)])\n",
    "                pred_cv.extend(predicted_cv[:,1])\n",
    "        \n",
    "        # evaluate train accuracy\n",
    "        auc_train=roc_auc_score(y_train,pred_train)\n",
    "        #print('AUC train SCORE  FOR', alpha ,'is', auc_train*100)\n",
    "        list_train.append(auc_train)\n",
    "    \n",
    "     \n",
    "        # evaluate cv accuracy\n",
    "        auc_cv=roc_auc_score(y_cv,pred_cv)  \n",
    "        print('AUC cv SCORE  FOR', i ,'is', auc_cv*100)\n",
    "        list_cv.append(auc_cv)\n",
    "        list_cv_max=max(list_cv)\n",
    "\n",
    "    print(\"=\"*50)\n",
    "    print(\"train AUC SCORE\",list_train)\n",
    "    pred_train=pred_train\n",
    "    print(\"=\"*50)\n",
    "    print(\" MAX CV AUC SCORE\",list_cv_max*100)\n",
    "    pred_cv=pred_cv\n",
    "    \n",
    "    return list_train,list_cv,pred_train,pred_cv,min,clf\n",
    "        "
   ]
  },
  {
   "cell_type": "code",
   "execution_count": 27,
   "metadata": {},
   "outputs": [],
   "source": [
    "# Please write all the code with proper documentation\n",
    "# Please write all the code with proper documentation\n",
    "import math\n",
    "from sklearn.tree import DecisionTreeClassifier\n",
    "from sklearn.datasets import load_iris\n",
    "from sklearn.metrics import roc_auc_score\n",
    "\n",
    "def SimpleCrossValidation_depth(x_train,x_cv,pred_train_data,pred_cv_data,x_test):\n",
    "    print(\"AFTER FEATURE ENGINEERING\")\n",
    "    list_train=[]\n",
    "    list_cv=[]\n",
    "    depth=[1,5,10,50,100,500,1000]\n",
    "    for i in depth:\n",
    "        \n",
    "     \n",
    "        clf=DecisionTreeClassifier(class_weight='balanced', criterion='gini', max_depth=i,\n",
    "             max_leaf_nodes=1000,\n",
    "            min_impurity_split=None, min_samples_leaf=100,\n",
    "            min_samples_split=10, \n",
    "            splitter='best')\n",
    "        # fitting the model on crossvalidation traincc\n",
    "        clf.fit(x_train, y_train)\n",
    "         \n",
    "         \n",
    "        predicted_train=[]\n",
    "        pred_train=[]\n",
    "        predicted_cv=[]\n",
    "        pred_cv=[]\n",
    "        # predict the response on the train \n",
    "       \n",
    "        for j in range(0,60000,1000):\n",
    "                predicted_train =clf.predict_proba(pred_train_data[j:(j+1000)])\n",
    "                pred_train.extend(predicted_train[:,1])\n",
    "\n",
    "        # predict the response on the crossvalidation \n",
    "        \n",
    "        for j in range(0,20000,1000):\n",
    "                predicted_cv =clf.predict_proba(pred_cv_data[j:(j+1000)])\n",
    "                pred_cv.extend(predicted_cv[:,1])\n",
    "        \n",
    "        # evaluate train accuracy\n",
    "        auc_train=roc_auc_score(y_train,pred_train)\n",
    "        #print('AUC train SCORE  FOR', alpha ,'is', auc_train*100)\n",
    "        list_train.append(auc_train)\n",
    "    \n",
    "     \n",
    "        # evaluate cv accuracy\n",
    "        auc_cv=roc_auc_score(y_cv,pred_cv)  \n",
    "        print('AUC cv SCORE  FOR', i ,'is', auc_cv*100)\n",
    "        list_cv.append(auc_cv)\n",
    "        list_cv_max=max(list_cv)\n",
    "\n",
    "    print(\"=\"*50)\n",
    "    print(\"train AUC SCORE\",list_train)\n",
    "    pred_train=pred_train\n",
    "    print(\"=\"*50)\n",
    "    print(\" MAX CV AUC SCORE\",list_cv_max*100)\n",
    "    pred_cv=pred_cv\n",
    "    \n",
    "    return list_train,list_cv,pred_train,pred_cv,depth,clf\n",
    "        "
   ]
  },
  {
   "cell_type": "code",
   "execution_count": 28,
   "metadata": {},
   "outputs": [],
   "source": [
    "def AUCcurve_min(y1,y2):\n",
    "    \n",
    "    x=[5,10,100,500]\n",
    "    plt.xlabel('hyperparameter')\n",
    "    plt.ylabel('AREA UNDER GRAPH')\n",
    "    plt.title(\"auc of train and cv data\")\n",
    "    plt.plot(x,y1,'y', label='train')\n",
    "    plt.plot(x,y2, 'r',label='cv' )\n",
    "    plt.legend()\n",
    "    plt.show()"
   ]
  },
  {
   "cell_type": "code",
   "execution_count": 29,
   "metadata": {},
   "outputs": [],
   "source": [
    "def AUCcurve_depth(y1,y2):\n",
    "    \n",
    "    x=[1,5,10,50,100,500,1000]\n",
    "    plt.xlabel('hyperparameter')\n",
    "    plt.ylabel('AREA UNDER GRAPH')\n",
    "    plt.title(\"auc of train and cv data\")\n",
    "    plt.plot(x,y1,'y', label='train')\n",
    "    plt.plot(x,y2, 'r',label='cv' )\n",
    "    plt.legend()\n",
    "    plt.show()"
   ]
  },
  {
   "cell_type": "code",
   "execution_count": 30,
   "metadata": {},
   "outputs": [],
   "source": [
    "# ROC FOR TRAIN AND TEST TFIDF\n",
    "def ROC_curve(pred_train,pred_test):\n",
    "    plt.title('Receiver Operating Characteristic  after feature engineering')\n",
    "    fbr_train,tpr_train,thresholds=metrics.roc_curve(y_train,pred_train)\n",
    "    roc_auc=metrics.auc(fbr_train,tpr_train)\n",
    "    fbr_test,tpr_test,thresholds=metrics.roc_curve(y_test,pred_test)\n",
    "    roc_auc=metrics.auc(fbr_test,tpr_test)\n",
    "    plt.plot(fbr_test,tpr_test,'b',label=\"roc_auc of test\")\n",
    "    plt.legend()\n",
    "    plt.ylabel('True positive rate')\n",
    "    plt.xlabel('False positive rate')\n",
    "    plt.plot(fbr_train,tpr_train,'r',label=\"roc_auc of train\")\n",
    "    plt.legend(loc='lower right')\n",
    "    plt.show()\n"
   ]
  },
  {
   "cell_type": "code",
   "execution_count": 31,
   "metadata": {},
   "outputs": [],
   "source": [
    "# CONFUSION MATRIX FOR TFIDF\n",
    "def confusion(pred_test):\n",
    "    confusion_tf_idf2=confusion_matrix(y_test,pred_test)\n",
    "    plt.figure(figsize=[8,6])\n",
    "    sns.heatmap(confusion_tf_idf2,annot=True,annot_kws={'size':16},fmt='g')\n",
    "    plt.title(\"confusion matrix for tf_idf after feature engineering\")\n",
    "    plt.xlabel(\"Predicted values\")\n",
    "    plt.ylabel(\"Actual Value\")\n",
    "    plt.show()"
   ]
  },
  {
   "cell_type": "markdown",
   "metadata": {},
   "source": [
    "## [5.1] Applying Decision Trees on BOW,<font color='red'> SET 1</font>"
   ]
  },
  {
   "cell_type": "code",
   "execution_count": 32,
   "metadata": {},
   "outputs": [
    {
     "name": "stdout",
     "output_type": "stream",
     "text": [
      "AFTER FEATURE ENGINEERING\n",
      "AUC cv SCORE  FOR 1 is 67.24915220553336\n",
      "AUC cv SCORE  FOR 5 is 75.09147237552973\n",
      "AUC cv SCORE  FOR 10 is 79.69644086302318\n",
      "AUC cv SCORE  FOR 50 is 83.0193386806736\n",
      "AUC cv SCORE  FOR 100 is 83.0193386806736\n",
      "AUC cv SCORE  FOR 500 is 83.0193386806736\n",
      "AUC cv SCORE  FOR 1000 is 83.0193386806736\n",
      "==================================================\n",
      "train AUC SCORE [0.6722913790993683, 0.7531308035613381, 0.7989788665941229, 0.8370494362075755, 0.8370494362075755, 0.8370494362075755, 0.8370494362075755]\n",
      "==================================================\n",
      " MAX CV AUC SCORE 83.0193386806736\n"
     ]
    }
   ],
   "source": [
    "list_train,list_cv,pred_train,pred_cv,depth,clf=SimpleCrossValidation_depth(x_test=test_bow,x_train=train_bow,x_cv=cv_bow,pred_train_data=train_bow,pred_cv_data=cv_bow)"
   ]
  },
  {
   "cell_type": "code",
   "execution_count": 33,
   "metadata": {},
   "outputs": [
    {
     "data": {
      "image/png": "[encoded data removed]",
      "text/plain": [
       "<Figure size 432x288 with 1 Axes>"
      ]
     },
     "metadata": {},
     "output_type": "display_data"
    }
   ],
   "source": [
    "AUCcurve_depth(y1=list_train,y2=list_cv)"
   ]
  },
  {
   "cell_type": "code",
   "execution_count": 34,
   "metadata": {},
   "outputs": [
    {
     "name": "stdout",
     "output_type": "stream",
     "text": [
      "AFTER FEATURE ENGINEERING\n",
      "AUC cv SCORE  FOR 5 is 83.0193386806736\n",
      "AUC cv SCORE  FOR 10 is 83.0193386806736\n",
      "AUC cv SCORE  FOR 100 is 83.0193386806736\n",
      "AUC cv SCORE  FOR 500 is 82.87329710136615\n",
      "==================================================\n",
      "train AUC SCORE [0.8370494362075755, 0.8370494362075755, 0.8370494362075755, 0.8341828809436034]\n",
      "==================================================\n",
      " MAX CV AUC SCORE 83.0193386806736\n"
     ]
    }
   ],
   "source": [
    "list_train,list_cv,pred_train,pred_cv,clf,min=SimpleCrossValidation_min(x_test=test_bow,x_train=train_bow,x_cv=cv_bow,pred_train_data=train_bow,pred_cv_data=cv_bow)"
   ]
  },
  {
   "cell_type": "code",
   "execution_count": 35,
   "metadata": {},
   "outputs": [
    {
     "data": {
      "image/png": "[encoded data removed]",
      "text/plain": [
       "<Figure size 432x288 with 1 Axes>"
      ]
     },
     "metadata": {},
     "output_type": "display_data"
    }
   ],
   "source": [
    "AUCcurve_min(y1=list_train,y2=list_cv)"
   ]
  },
  {
   "cell_type": "code",
   "execution_count": 36,
   "metadata": {},
   "outputs": [
    {
     "name": "stdout",
     "output_type": "stream",
     "text": [
      "AUC VALUE FOR TEST DATA 82.55141656970476\n"
     ]
    }
   ],
   "source": [
    "\n",
    "clf=DecisionTreeClassifier(class_weight='balanced', criterion='gini', max_depth=1000,\n",
    "             max_leaf_nodes=1000,\n",
    "            min_impurity_split=None, min_samples_leaf=100,\n",
    "            min_samples_split=10, \n",
    "            splitter='best')\n",
    "\n",
    "clf.fit(train_bow, y_train)\n",
    "pred_test_bow= (clf.predict_proba(test_bow))[:,1]\n",
    "auc_test=roc_auc_score(y_test,pred_test_bow)*100\n",
    "print('AUC VALUE FOR TEST DATA',auc_test)\n",
    "pred_test=clf.predict(test_bow)"
   ]
  },
  {
   "cell_type": "code",
   "execution_count": 37,
   "metadata": {
    "scrolled": true
   },
   "outputs": [
    {
     "data": {
      "image/png": "[encoded data removed]",
      "text/plain": [
       "<Figure size 432x288 with 1 Axes>"
      ]
     },
     "metadata": {},
     "output_type": "display_data"
    }
   ],
   "source": [
    "ROC_curve(pred_train,pred_test)"
   ]
  },
  {
   "cell_type": "code",
   "execution_count": 38,
   "metadata": {},
   "outputs": [
    {
     "data": {
      "image/png": "[encoded data removed]",
      "text/plain": [
       "<Figure size 576x432 with 2 Axes>"
      ]
     },
     "metadata": {},
     "output_type": "display_data"
    }
   ],
   "source": [
    "confusion(pred_test)"
   ]
  },
  {
   "cell_type": "markdown",
   "metadata": {},
   "source": [
    "# [5.1.1] Top 20 important features from<font color='red'> SET 1</font>"
   ]
  },
  {
   "cell_type": "code",
   "execution_count": 60,
   "metadata": {},
   "outputs": [
    {
     "data": {
      "text/plain": [
       "[(0.43821955570688104, 'not even'),\n",
       " (0.35144764992287564, 'grocery'),\n",
       " (0.10305271605859449, 'best'),\n",
       " (0.07572157037475546, 'dogs'),\n",
       " (0.02365381881220099, 'thought'),\n",
       " (0.00790468912469248, 'unfortunately'),\n",
       " (0.0, 'yet'),\n",
       " (0.0, 'yes'),\n",
       " (0.0, 'years'),\n",
       " (0.0, 'year'),\n",
       " (0.0, 'wrong'),\n",
       " (0.0, 'would not'),\n",
       " (0.0, 'would'),\n",
       " (0.0, 'worth'),\n",
       " (0.0, 'worst'),\n",
       " (0.0, 'works'),\n",
       " (0.0, 'work'),\n",
       " (0.0, 'wonderful'),\n",
       " (0.0, 'without'),\n",
       " (0.0, 'wish')]"
      ]
     },
     "execution_count": 60,
     "metadata": {},
     "output_type": "execute_result"
    }
   ],
   "source": [
    "w=clf.feature_importances_\n",
    "feature_names=count_vect.get_feature_names()\n",
    "top_class=sorted(zip(w,feature_names),reverse=True)[:20]\n",
    "top_class"
   ]
  },
  {
   "cell_type": "code",
   "execution_count": 56,
   "metadata": {},
   "outputs": [
    {
     "data": {
      "text/plain": [
       "[(0.43821955570688104, 'not even'),\n",
       " (0.35144764992287564, 'grocery'),\n",
       " (0.10305271605859449, 'best'),\n",
       " (0.07572157037475546, 'dogs'),\n",
       " (0.02365381881220099, 'thought'),\n",
       " (0.00790468912469248, 'unfortunately'),\n",
       " (0.0, 'yet'),\n",
       " (0.0, 'yes'),\n",
       " (0.0, 'years'),\n",
       " (0.0, 'year'),\n",
       " (0.0, 'wrong'),\n",
       " (0.0, 'would not'),\n",
       " (0.0, 'would'),\n",
       " (0.0, 'worth'),\n",
       " (0.0, 'worst'),\n",
       " (0.0, 'works'),\n",
       " (0.0, 'work'),\n",
       " (0.0, 'wonderful'),\n",
       " (0.0, 'without'),\n",
       " (0.0, 'wish')]"
      ]
     },
     "execution_count": 56,
     "metadata": {},
     "output_type": "execute_result"
    }
   ],
   "source": [
    "top_class"
   ]
  },
  {
   "cell_type": "markdown",
   "metadata": {},
   "source": [
    "# [5.1.2] Graphviz visualization of Decision Tree on BOW,<font color='red'> SET 1</font>"
   ]
  },
  {
   "cell_type": "code",
   "execution_count": 41,
   "metadata": {},
   "outputs": [],
   "source": [
    "import graphviz \n",
    "from sklearn import tree\n",
    "clf=DecisionTreeClassifier(class_weight='balanced', criterion='gini', max_depth=3)\n",
    "clf.fit(train_bow, y_train)\n",
    "\n",
    "dot_data = tree.export_graphviz(clf, out_file=None) \n",
    "graph = graphviz.Source(dot_data) "
   ]
  },
  {
   "cell_type": "code",
   "execution_count": 42,
   "metadata": {},
   "outputs": [
    {
     "data": {
      "image/svg+xml": [
       "<?xml version=\"1.0\" encoding=\"UTF-8\" standalone=\"no\"?>\r\n",
       "<!DOCTYPE svg PUBLIC \"-//W3C//DTD SVG 1.1//EN\"\r\n",
       " \"http://www.w3.org/Graphics/SVG/1.1/DTD/svg11.dtd\">\r\n",
       "<!-- Generated by graphviz version 2.38.0 (20140413.2041)\r\n",
       " -->\r\n",
       "<!-- Title: Tree Pages: 1 -->\r\n",
       "<svg width=\"1517pt\" height=\"373pt\"\r\n",
       " viewBox=\"0.00 0.00 1516.50 373.00\" xmlns=\"http://www.w3.org/2000/svg\" xmlns:xlink=\"http://www.w3.org/1999/xlink\">\r\n",
       "<g id=\"graph0\" class=\"graph\" transform=\"scale(1 1) rotate(0) translate(4 369)\">\r\n",
       "<title>Tree</title>\r\n",
       "<polygon fill=\"white\" stroke=\"none\" points=\"-4,4 -4,-369 1512.5,-369 1512.5,4 -4,4\"/>\r\n",
       "<!-- 0 -->\r\n",
       "<g id=\"node1\" class=\"node\"><title>0</title>\r\n",
       "<polygon fill=\"none\" stroke=\"black\" points=\"831.5,-365 665.5,-365 665.5,-297 831.5,-297 831.5,-365\"/>\r\n",
       "<text text-anchor=\"middle\" x=\"748.5\" y=\"-349.8\" font-family=\"Times New Roman,serif\" font-size=\"14.00\">X[28106] &lt;= 0.5</text>\r\n",
       "<text text-anchor=\"middle\" x=\"748.5\" y=\"-334.8\" font-family=\"Times New Roman,serif\" font-size=\"14.00\">gini = 0.5</text>\r\n",
       "<text text-anchor=\"middle\" x=\"748.5\" y=\"-319.8\" font-family=\"Times New Roman,serif\" font-size=\"14.00\">samples = 60000</text>\r\n",
       "<text text-anchor=\"middle\" x=\"748.5\" y=\"-304.8\" font-family=\"Times New Roman,serif\" font-size=\"14.00\">value = [30000.0, 30000.0]</text>\r\n",
       "</g>\r\n",
       "<!-- 1 -->\r\n",
       "<g id=\"node2\" class=\"node\"><title>1</title>\r\n",
       "<polygon fill=\"none\" stroke=\"black\" points=\"699.5,-261 513.5,-261 513.5,-193 699.5,-193 699.5,-261\"/>\r\n",
       "<text text-anchor=\"middle\" x=\"606.5\" y=\"-245.8\" font-family=\"Times New Roman,serif\" font-size=\"14.00\">X[18106] &lt;= 0.5</text>\r\n",
       "<text text-anchor=\"middle\" x=\"606.5\" y=\"-230.8\" font-family=\"Times New Roman,serif\" font-size=\"14.00\">gini = 0.449</text>\r\n",
       "<text text-anchor=\"middle\" x=\"606.5\" y=\"-215.8\" font-family=\"Times New Roman,serif\" font-size=\"14.00\">samples = 23035</text>\r\n",
       "<text text-anchor=\"middle\" x=\"606.5\" y=\"-200.8\" font-family=\"Times New Roman,serif\" font-size=\"14.00\">value = [7742.578, 14962.703]</text>\r\n",
       "</g>\r\n",
       "<!-- 0&#45;&gt;1 -->\r\n",
       "<g id=\"edge1\" class=\"edge\"><title>0&#45;&gt;1</title>\r\n",
       "<path fill=\"none\" stroke=\"black\" d=\"M702.397,-296.884C689.252,-287.442 674.804,-277.064 661.2,-267.292\"/>\r\n",
       "<polygon fill=\"black\" stroke=\"black\" points=\"663.022,-264.291 652.858,-261.299 658.938,-269.976 663.022,-264.291\"/>\r\n",
       "<text text-anchor=\"middle\" x=\"656.902\" y=\"-282.27\" font-family=\"Times New Roman,serif\" font-size=\"14.00\">True</text>\r\n",
       "</g>\r\n",
       "<!-- 8 -->\r\n",
       "<g id=\"node9\" class=\"node\"><title>8</title>\r\n",
       "<polygon fill=\"none\" stroke=\"black\" points=\"987,-261 794,-261 794,-193 987,-193 987,-261\"/>\r\n",
       "<text text-anchor=\"middle\" x=\"890.5\" y=\"-245.8\" font-family=\"Times New Roman,serif\" font-size=\"14.00\">X[18106] &lt;= 0.5</text>\r\n",
       "<text text-anchor=\"middle\" x=\"890.5\" y=\"-230.8\" font-family=\"Times New Roman,serif\" font-size=\"14.00\">gini = 0.481</text>\r\n",
       "<text text-anchor=\"middle\" x=\"890.5\" y=\"-215.8\" font-family=\"Times New Roman,serif\" font-size=\"14.00\">samples = 36965</text>\r\n",
       "<text text-anchor=\"middle\" x=\"890.5\" y=\"-200.8\" font-family=\"Times New Roman,serif\" font-size=\"14.00\">value = [22257.422, 15037.297]</text>\r\n",
       "</g>\r\n",
       "<!-- 0&#45;&gt;8 -->\r\n",
       "<g id=\"edge8\" class=\"edge\"><title>0&#45;&gt;8</title>\r\n",
       "<path fill=\"none\" stroke=\"black\" d=\"M794.603,-296.884C807.748,-287.442 822.196,-277.064 835.8,-267.292\"/>\r\n",
       "<polygon fill=\"black\" stroke=\"black\" points=\"838.062,-269.976 844.142,-261.299 833.978,-264.291 838.062,-269.976\"/>\r\n",
       "<text text-anchor=\"middle\" x=\"840.098\" y=\"-282.27\" font-family=\"Times New Roman,serif\" font-size=\"14.00\">False</text>\r\n",
       "</g>\r\n",
       "<!-- 2 -->\r\n",
       "<g id=\"node3\" class=\"node\"><title>2</title>\r\n",
       "<polygon fill=\"none\" stroke=\"black\" points=\"376.5,-157 190.5,-157 190.5,-89 376.5,-89 376.5,-157\"/>\r\n",
       "<text text-anchor=\"middle\" x=\"283.5\" y=\"-141.8\" font-family=\"Times New Roman,serif\" font-size=\"14.00\">X[3792] &lt;= 0.5</text>\r\n",
       "<text text-anchor=\"middle\" x=\"283.5\" y=\"-126.8\" font-family=\"Times New Roman,serif\" font-size=\"14.00\">gini = 0.479</text>\r\n",
       "<text text-anchor=\"middle\" x=\"283.5\" y=\"-111.8\" font-family=\"Times New Roman,serif\" font-size=\"14.00\">samples = 18274</text>\r\n",
       "<text text-anchor=\"middle\" x=\"283.5\" y=\"-96.8\" font-family=\"Times New Roman,serif\" font-size=\"14.00\">value = [7198.743, 10905.961]</text>\r\n",
       "</g>\r\n",
       "<!-- 1&#45;&gt;2 -->\r\n",
       "<g id=\"edge2\" class=\"edge\"><title>1&#45;&gt;2</title>\r\n",
       "<path fill=\"none\" stroke=\"black\" d=\"M513.075,-196.497C473.403,-183.969 427.022,-169.323 386.374,-156.487\"/>\r\n",
       "<polygon fill=\"black\" stroke=\"black\" points=\"387.305,-153.11 376.715,-153.436 385.197,-159.785 387.305,-153.11\"/>\r\n",
       "</g>\r\n",
       "<!-- 5 -->\r\n",
       "<g id=\"node6\" class=\"node\"><title>5</title>\r\n",
       "<polygon fill=\"none\" stroke=\"black\" points=\"693,-157 520,-157 520,-89 693,-89 693,-157\"/>\r\n",
       "<text text-anchor=\"middle\" x=\"606.5\" y=\"-141.8\" font-family=\"Times New Roman,serif\" font-size=\"14.00\">X[42343] &lt;= 0.5</text>\r\n",
       "<text text-anchor=\"middle\" x=\"606.5\" y=\"-126.8\" font-family=\"Times New Roman,serif\" font-size=\"14.00\">gini = 0.208</text>\r\n",
       "<text text-anchor=\"middle\" x=\"606.5\" y=\"-111.8\" font-family=\"Times New Roman,serif\" font-size=\"14.00\">samples = 4761</text>\r\n",
       "<text text-anchor=\"middle\" x=\"606.5\" y=\"-96.8\" font-family=\"Times New Roman,serif\" font-size=\"14.00\">value = [543.835, 4056.742]</text>\r\n",
       "</g>\r\n",
       "<!-- 1&#45;&gt;5 -->\r\n",
       "<g id=\"edge5\" class=\"edge\"><title>1&#45;&gt;5</title>\r\n",
       "<path fill=\"none\" stroke=\"black\" d=\"M606.5,-192.884C606.5,-184.778 606.5,-175.982 606.5,-167.472\"/>\r\n",
       "<polygon fill=\"black\" stroke=\"black\" points=\"610,-167.299 606.5,-157.299 603,-167.299 610,-167.299\"/>\r\n",
       "</g>\r\n",
       "<!-- 3 -->\r\n",
       "<g id=\"node4\" class=\"node\"><title>3</title>\r\n",
       "<polygon fill=\"none\" stroke=\"black\" points=\"179,-53 0,-53 0,-0 179,-0 179,-53\"/>\r\n",
       "<text text-anchor=\"middle\" x=\"89.5\" y=\"-37.8\" font-family=\"Times New Roman,serif\" font-size=\"14.00\">gini = 0.49</text>\r\n",
       "<text text-anchor=\"middle\" x=\"89.5\" y=\"-22.8\" font-family=\"Times New Roman,serif\" font-size=\"14.00\">samples = 16336</text>\r\n",
       "<text text-anchor=\"middle\" x=\"89.5\" y=\"-7.8\" font-family=\"Times New Roman,serif\" font-size=\"14.00\">value = [6964.024, 9266.815]</text>\r\n",
       "</g>\r\n",
       "<!-- 2&#45;&gt;3 -->\r\n",
       "<g id=\"edge3\" class=\"edge\"><title>2&#45;&gt;3</title>\r\n",
       "<path fill=\"none\" stroke=\"black\" d=\"M215.648,-88.9485C194.708,-78.748 171.769,-67.5744 151.262,-57.5852\"/>\r\n",
       "<polygon fill=\"black\" stroke=\"black\" points=\"152.55,-54.3194 142.027,-53.0867 149.485,-60.6125 152.55,-54.3194\"/>\r\n",
       "</g>\r\n",
       "<!-- 4 -->\r\n",
       "<g id=\"node5\" class=\"node\"><title>4</title>\r\n",
       "<polygon fill=\"none\" stroke=\"black\" points=\"370,-53 197,-53 197,-0 370,-0 370,-53\"/>\r\n",
       "<text text-anchor=\"middle\" x=\"283.5\" y=\"-37.8\" font-family=\"Times New Roman,serif\" font-size=\"14.00\">gini = 0.219</text>\r\n",
       "<text text-anchor=\"middle\" x=\"283.5\" y=\"-22.8\" font-family=\"Times New Roman,serif\" font-size=\"14.00\">samples = 1938</text>\r\n",
       "<text text-anchor=\"middle\" x=\"283.5\" y=\"-7.8\" font-family=\"Times New Roman,serif\" font-size=\"14.00\">value = [234.719, 1639.146]</text>\r\n",
       "</g>\r\n",
       "<!-- 2&#45;&gt;4 -->\r\n",
       "<g id=\"edge4\" class=\"edge\"><title>2&#45;&gt;4</title>\r\n",
       "<path fill=\"none\" stroke=\"black\" d=\"M283.5,-88.9485C283.5,-80.7153 283.5,-71.848 283.5,-63.4814\"/>\r\n",
       "<polygon fill=\"black\" stroke=\"black\" points=\"287,-63.2367 283.5,-53.2367 280,-63.2367 287,-63.2367\"/>\r\n",
       "</g>\r\n",
       "<!-- 6 -->\r\n",
       "<g id=\"node7\" class=\"node\"><title>6</title>\r\n",
       "<polygon fill=\"none\" stroke=\"black\" points=\"561,-53 388,-53 388,-0 561,-0 561,-53\"/>\r\n",
       "<text text-anchor=\"middle\" x=\"474.5\" y=\"-37.8\" font-family=\"Times New Roman,serif\" font-size=\"14.00\">gini = 0.192</text>\r\n",
       "<text text-anchor=\"middle\" x=\"474.5\" y=\"-22.8\" font-family=\"Times New Roman,serif\" font-size=\"14.00\">samples = 4621</text>\r\n",
       "<text text-anchor=\"middle\" x=\"474.5\" y=\"-7.8\" font-family=\"Times New Roman,serif\" font-size=\"14.00\">value = [480.964, 3980.236]</text>\r\n",
       "</g>\r\n",
       "<!-- 5&#45;&gt;6 -->\r\n",
       "<g id=\"edge6\" class=\"edge\"><title>5&#45;&gt;6</title>\r\n",
       "<path fill=\"none\" stroke=\"black\" d=\"M560.333,-88.9485C546.788,-79.2516 532.015,-68.6752 518.602,-59.073\"/>\r\n",
       "<polygon fill=\"black\" stroke=\"black\" points=\"520.618,-56.212 510.45,-53.2367 516.543,-61.9038 520.618,-56.212\"/>\r\n",
       "</g>\r\n",
       "<!-- 7 -->\r\n",
       "<g id=\"node8\" class=\"node\"><title>7</title>\r\n",
       "<polygon fill=\"none\" stroke=\"black\" points=\"731.5,-53 579.5,-53 579.5,-0 731.5,-0 731.5,-53\"/>\r\n",
       "<text text-anchor=\"middle\" x=\"655.5\" y=\"-37.8\" font-family=\"Times New Roman,serif\" font-size=\"14.00\">gini = 0.495</text>\r\n",
       "<text text-anchor=\"middle\" x=\"655.5\" y=\"-22.8\" font-family=\"Times New Roman,serif\" font-size=\"14.00\">samples = 140</text>\r\n",
       "<text text-anchor=\"middle\" x=\"655.5\" y=\"-7.8\" font-family=\"Times New Roman,serif\" font-size=\"14.00\">value = [62.871, 76.506]</text>\r\n",
       "</g>\r\n",
       "<!-- 5&#45;&gt;7 -->\r\n",
       "<g id=\"edge7\" class=\"edge\"><title>5&#45;&gt;7</title>\r\n",
       "<path fill=\"none\" stroke=\"black\" d=\"M623.638,-88.9485C628.097,-80.3494 632.914,-71.0586 637.42,-62.3689\"/>\r\n",
       "<polygon fill=\"black\" stroke=\"black\" points=\"640.659,-63.7254 642.155,-53.2367 634.445,-60.5031 640.659,-63.7254\"/>\r\n",
       "</g>\r\n",
       "<!-- 9 -->\r\n",
       "<g id=\"node10\" class=\"node\"><title>9</title>\r\n",
       "<polygon fill=\"none\" stroke=\"black\" points=\"987,-157 794,-157 794,-89 987,-89 987,-157\"/>\r\n",
       "<text text-anchor=\"middle\" x=\"890.5\" y=\"-141.8\" font-family=\"Times New Roman,serif\" font-size=\"14.00\">X[3792] &lt;= 0.5</text>\r\n",
       "<text text-anchor=\"middle\" x=\"890.5\" y=\"-126.8\" font-family=\"Times New Roman,serif\" font-size=\"14.00\">gini = 0.456</text>\r\n",
       "<text text-anchor=\"middle\" x=\"890.5\" y=\"-111.8\" font-family=\"Times New Roman,serif\" font-size=\"14.00\">samples = 30510</text>\r\n",
       "<text text-anchor=\"middle\" x=\"890.5\" y=\"-96.8\" font-family=\"Times New Roman,serif\" font-size=\"14.00\">value = [20038.072, 10889.704]</text>\r\n",
       "</g>\r\n",
       "<!-- 8&#45;&gt;9 -->\r\n",
       "<g id=\"edge9\" class=\"edge\"><title>8&#45;&gt;9</title>\r\n",
       "<path fill=\"none\" stroke=\"black\" d=\"M890.5,-192.884C890.5,-184.778 890.5,-175.982 890.5,-167.472\"/>\r\n",
       "<polygon fill=\"black\" stroke=\"black\" points=\"894,-167.299 890.5,-157.299 887,-167.299 894,-167.299\"/>\r\n",
       "</g>\r\n",
       "<!-- 12 -->\r\n",
       "<g id=\"node13\" class=\"node\"><title>12</title>\r\n",
       "<polygon fill=\"none\" stroke=\"black\" points=\"1321,-157 1148,-157 1148,-89 1321,-89 1321,-157\"/>\r\n",
       "<text text-anchor=\"middle\" x=\"1234.5\" y=\"-141.8\" font-family=\"Times New Roman,serif\" font-size=\"14.00\">X[42343] &lt;= 0.5</text>\r\n",
       "<text text-anchor=\"middle\" x=\"1234.5\" y=\"-126.8\" font-family=\"Times New Roman,serif\" font-size=\"14.00\">gini = 0.454</text>\r\n",
       "<text text-anchor=\"middle\" x=\"1234.5\" y=\"-111.8\" font-family=\"Times New Roman,serif\" font-size=\"14.00\">samples = 6455</text>\r\n",
       "<text text-anchor=\"middle\" x=\"1234.5\" y=\"-96.8\" font-family=\"Times New Roman,serif\" font-size=\"14.00\">value = [2219.35, 4147.593]</text>\r\n",
       "</g>\r\n",
       "<!-- 8&#45;&gt;12 -->\r\n",
       "<g id=\"edge12\" class=\"edge\"><title>8&#45;&gt;12</title>\r\n",
       "<path fill=\"none\" stroke=\"black\" d=\"M987.239,-197.316C1034.46,-183.314 1091.11,-166.516 1138.27,-152.534\"/>\r\n",
       "<polygon fill=\"black\" stroke=\"black\" points=\"1139.28,-155.885 1147.87,-149.686 1137.29,-149.174 1139.28,-155.885\"/>\r\n",
       "</g>\r\n",
       "<!-- 10 -->\r\n",
       "<g id=\"node11\" class=\"node\"><title>10</title>\r\n",
       "<polygon fill=\"none\" stroke=\"black\" points=\"935.5,-53 749.5,-53 749.5,-0 935.5,-0 935.5,-53\"/>\r\n",
       "<text text-anchor=\"middle\" x=\"842.5\" y=\"-37.8\" font-family=\"Times New Roman,serif\" font-size=\"14.00\">gini = 0.44</text>\r\n",
       "<text text-anchor=\"middle\" x=\"842.5\" y=\"-22.8\" font-family=\"Times New Roman,serif\" font-size=\"14.00\">samples = 27947</text>\r\n",
       "<text text-anchor=\"middle\" x=\"842.5\" y=\"-7.8\" font-family=\"Times New Roman,serif\" font-size=\"14.00\">value = [19122.249, 9274.466]</text>\r\n",
       "</g>\r\n",
       "<!-- 9&#45;&gt;10 -->\r\n",
       "<g id=\"edge10\" class=\"edge\"><title>9&#45;&gt;10</title>\r\n",
       "<path fill=\"none\" stroke=\"black\" d=\"M873.712,-88.9485C869.344,-80.3494 864.625,-71.0586 860.211,-62.3689\"/>\r\n",
       "<polygon fill=\"black\" stroke=\"black\" points=\"863.222,-60.5675 855.573,-53.2367 856.981,-63.7376 863.222,-60.5675\"/>\r\n",
       "</g>\r\n",
       "<!-- 11 -->\r\n",
       "<g id=\"node12\" class=\"node\"><title>11</title>\r\n",
       "<polygon fill=\"none\" stroke=\"black\" points=\"1127,-53 954,-53 954,-0 1127,-0 1127,-53\"/>\r\n",
       "<text text-anchor=\"middle\" x=\"1040.5\" y=\"-37.8\" font-family=\"Times New Roman,serif\" font-size=\"14.00\">gini = 0.462</text>\r\n",
       "<text text-anchor=\"middle\" x=\"1040.5\" y=\"-22.8\" font-family=\"Times New Roman,serif\" font-size=\"14.00\">samples = 2563</text>\r\n",
       "<text text-anchor=\"middle\" x=\"1040.5\" y=\"-7.8\" font-family=\"Times New Roman,serif\" font-size=\"14.00\">value = [915.823, 1615.237]</text>\r\n",
       "</g>\r\n",
       "<!-- 9&#45;&gt;11 -->\r\n",
       "<g id=\"edge11\" class=\"edge\"><title>9&#45;&gt;11</title>\r\n",
       "<path fill=\"none\" stroke=\"black\" d=\"M942.963,-88.9485C958.5,-79.1601 975.459,-68.4756 990.815,-58.8015\"/>\r\n",
       "<polygon fill=\"black\" stroke=\"black\" points=\"993.053,-61.5285 999.648,-53.2367 989.322,-55.6058 993.053,-61.5285\"/>\r\n",
       "</g>\r\n",
       "<!-- 13 -->\r\n",
       "<g id=\"node14\" class=\"node\"><title>13</title>\r\n",
       "<polygon fill=\"none\" stroke=\"black\" points=\"1324,-53 1145,-53 1145,-0 1324,-0 1324,-53\"/>\r\n",
       "<text text-anchor=\"middle\" x=\"1234.5\" y=\"-37.8\" font-family=\"Times New Roman,serif\" font-size=\"14.00\">gini = 0.436</text>\r\n",
       "<text text-anchor=\"middle\" x=\"1234.5\" y=\"-22.8\" font-family=\"Times New Roman,serif\" font-size=\"14.00\">samples = 5891</text>\r\n",
       "<text text-anchor=\"middle\" x=\"1234.5\" y=\"-7.8\" font-family=\"Times New Roman,serif\" font-size=\"14.00\">value = [1859.937, 3936.245]</text>\r\n",
       "</g>\r\n",
       "<!-- 12&#45;&gt;13 -->\r\n",
       "<g id=\"edge13\" class=\"edge\"><title>12&#45;&gt;13</title>\r\n",
       "<path fill=\"none\" stroke=\"black\" d=\"M1234.5,-88.9485C1234.5,-80.7153 1234.5,-71.848 1234.5,-63.4814\"/>\r\n",
       "<polygon fill=\"black\" stroke=\"black\" points=\"1238,-63.2367 1234.5,-53.2367 1231,-63.2367 1238,-63.2367\"/>\r\n",
       "</g>\r\n",
       "<!-- 14 -->\r\n",
       "<g id=\"node15\" class=\"node\"><title>14</title>\r\n",
       "<polygon fill=\"none\" stroke=\"black\" points=\"1508.5,-53 1342.5,-53 1342.5,-0 1508.5,-0 1508.5,-53\"/>\r\n",
       "<text text-anchor=\"middle\" x=\"1425.5\" y=\"-37.8\" font-family=\"Times New Roman,serif\" font-size=\"14.00\">gini = 0.466</text>\r\n",
       "<text text-anchor=\"middle\" x=\"1425.5\" y=\"-22.8\" font-family=\"Times New Roman,serif\" font-size=\"14.00\">samples = 564</text>\r\n",
       "<text text-anchor=\"middle\" x=\"1425.5\" y=\"-7.8\" font-family=\"Times New Roman,serif\" font-size=\"14.00\">value = [359.413, 211.348]</text>\r\n",
       "</g>\r\n",
       "<!-- 12&#45;&gt;14 -->\r\n",
       "<g id=\"edge14\" class=\"edge\"><title>12&#45;&gt;14</title>\r\n",
       "<path fill=\"none\" stroke=\"black\" d=\"M1301.3,-88.9485C1321.92,-78.748 1344.5,-67.5744 1364.69,-57.5852\"/>\r\n",
       "<polygon fill=\"black\" stroke=\"black\" points=\"1366.37,-60.6583 1373.79,-53.0867 1363.27,-54.3843 1366.37,-60.6583\"/>\r\n",
       "</g>\r\n",
       "</g>\r\n",
       "</svg>\r\n"
      ],
      "text/plain": [
       "<graphviz.files.Source at 0x2044069a128>"
      ]
     },
     "execution_count": 42,
     "metadata": {},
     "output_type": "execute_result"
    }
   ],
   "source": [
    "graph"
   ]
  },
  {
   "cell_type": "markdown",
   "metadata": {},
   "source": [
    "## [5.2] Applying Decision Trees on TFIDF,<font color='red'> SET 2</font>"
   ]
  },
  {
   "cell_type": "code",
   "execution_count": 43,
   "metadata": {},
   "outputs": [
    {
     "name": "stdout",
     "output_type": "stream",
     "text": [
      "AFTER FEATURE ENGINEERING\n",
      "AUC cv SCORE  FOR 1 is 67.4142221478474\n",
      "AUC cv SCORE  FOR 5 is 75.37385370513178\n",
      "AUC cv SCORE  FOR 10 is 79.6513511284749\n",
      "AUC cv SCORE  FOR 50 is 83.38481113242948\n",
      "AUC cv SCORE  FOR 100 is 83.38666698139127\n",
      "AUC cv SCORE  FOR 500 is 83.38666698139127\n",
      "AUC cv SCORE  FOR 1000 is 83.39514784390094\n",
      "==================================================\n",
      "train AUC SCORE [0.6734482411152769, 0.7558987286932047, 0.8039599816550761, 0.8516297097803184, 0.851820279981664, 0.851820279981664, 0.8518432183739623]\n",
      "==================================================\n",
      " MAX CV AUC SCORE 83.39514784390094\n"
     ]
    }
   ],
   "source": [
    "list_train,list_cv,pred_train,pred_cv,depth,clf=SimpleCrossValidation_depth(x_train=train_tf_idf,x_cv=cv_tf_idf,pred_train_data=train_tf_idf,pred_cv_data=cv_tf_idf,x_test=test_tf_idf)\n"
   ]
  },
  {
   "cell_type": "code",
   "execution_count": 44,
   "metadata": {},
   "outputs": [
    {
     "data": {
      "image/png": "[encoded data removed]",
      "text/plain": [
       "<Figure size 432x288 with 1 Axes>"
      ]
     },
     "metadata": {},
     "output_type": "display_data"
    }
   ],
   "source": [
    "AUCcurve_depth(y1=list_train,y2=list_cv)"
   ]
  },
  {
   "cell_type": "code",
   "execution_count": 45,
   "metadata": {},
   "outputs": [
    {
     "name": "stdout",
     "output_type": "stream",
     "text": [
      "AFTER FEATURE ENGINEERING\n",
      "AUC cv SCORE  FOR 5 is 83.3879156170983\n",
      "AUC cv SCORE  FOR 10 is 83.39514784390094\n",
      "AUC cv SCORE  FOR 100 is 83.38666698139127\n",
      "AUC cv SCORE  FOR 500 is 83.28269567188052\n",
      "==================================================\n",
      "train AUC SCORE [0.851820279981664, 0.8518432183739623, 0.851820279981664, 0.8457225752238196]\n",
      "==================================================\n",
      " MAX CV AUC SCORE 83.39514784390094\n"
     ]
    }
   ],
   "source": [
    "list_train,list_cv,pred_train,pred_cv,min,clf=SimpleCrossValidation_min(x_train=train_tf_idf,x_cv=cv_tf_idf,pred_train_data=train_tf_idf,pred_cv_data=cv_tf_idf,x_test=test_tf_idf)\n"
   ]
  },
  {
   "cell_type": "code",
   "execution_count": 46,
   "metadata": {},
   "outputs": [
    {
     "data": {
      "image/png": "[encoded data removed]",
      "text/plain": [
       "<Figure size 432x288 with 1 Axes>"
      ]
     },
     "metadata": {},
     "output_type": "display_data"
    }
   ],
   "source": [
    "AUCcurve_min(y1=list_train,y2=list_cv)"
   ]
  },
  {
   "cell_type": "code",
   "execution_count": 47,
   "metadata": {},
   "outputs": [
    {
     "name": "stdout",
     "output_type": "stream",
     "text": [
      "AUC VALUE FOR TEST DATA 82.89847500341581\n"
     ]
    }
   ],
   "source": [
    "clf=DecisionTreeClassifier(class_weight='balanced', criterion='gini', max_depth=500,\n",
    "             max_leaf_nodes=1000,\n",
    "            min_impurity_split=None, min_samples_leaf=100,\n",
    "            min_samples_split=5, \n",
    "            splitter='best')\n",
    "\n",
    "\n",
    "clf.fit(train_tf_idf, y_train)\n",
    "\n",
    "pred_test_tf_idf= (clf.predict_proba(test_tf_idf))[:,1]\n",
    "auc_test=roc_auc_score(y_test,pred_test_tf_idf)*100\n",
    "print('AUC VALUE FOR TEST DATA',auc_test)\n",
    "pred_test=clf.predict(test_tf_idf)"
   ]
  },
  {
   "cell_type": "code",
   "execution_count": 48,
   "metadata": {},
   "outputs": [
    {
     "data": {
      "image/png": "[encoded data removed]",
      "text/plain": [
       "<Figure size 432x288 with 1 Axes>"
      ]
     },
     "metadata": {},
     "output_type": "display_data"
    },
    {
     "data": {
      "image/png": "[encoded data removed]",
      "text/plain": [
       "<Figure size 576x432 with 2 Axes>"
      ]
     },
     "metadata": {},
     "output_type": "display_data"
    }
   ],
   "source": [
    "\n",
    "ROC_curve(pred_train,pred_test)\n",
    "confusion(pred_test)"
   ]
  },
  {
   "cell_type": "markdown",
   "metadata": {},
   "source": [
    "### [5.2.1] Top 20 important features from<font color='red'> SET 2</font>"
   ]
  },
  {
   "cell_type": "code",
   "execution_count": 50,
   "metadata": {},
   "outputs": [
    {
     "data": {
      "text/plain": [
       "[(0.19753977197451333, 'not'),\n",
       " (0.13980050625192914, 'great'),\n",
       " (0.06813644281946112, 'best'),\n",
       " (0.05590625204205192, 'delicious'),\n",
       " (0.046725983307281886, 'good'),\n",
       " (0.04550517803038894, 'love'),\n",
       " (0.03744872473432715, 'perfect'),\n",
       " (0.037430468540369057, 'disappointed'),\n",
       " (0.030402315720827675, 'loves'),\n",
       " (0.02439552110934937, 'bad'),\n",
       " (0.021727411583494557, 'excellent'),\n",
       " (0.020678449520972482, 'favorite'),\n",
       " (0.019979390890694594, 'wonderful'),\n",
       " (0.014739627079937234, 'would'),\n",
       " (0.014707493535319905, 'nice'),\n",
       " (0.013757001921820442, 'not good'),\n",
       " (0.01348379379960806, 'thought'),\n",
       " (0.012087020750256418, 'highly'),\n",
       " (0.011536205976555651, 'tasty'),\n",
       " (0.011522178525161892, 'product')]"
      ]
     },
     "execution_count": 50,
     "metadata": {},
     "output_type": "execute_result"
    }
   ],
   "source": [
    "w=clf.feature_importances_\n",
    "feature_names=tf_idf_vect.get_feature_names()\n",
    "top_class=sorted(zip(w,feature_names),reverse=True)[:20]\n",
    "top_class"
   ]
  },
  {
   "cell_type": "markdown",
   "metadata": {},
   "source": [
    "# [5.2.2] Graphviz visualization of Decision Tree on TFIDF,<font color='red'> SET 2</font>"
   ]
  },
  {
   "cell_type": "code",
   "execution_count": 51,
   "metadata": {},
   "outputs": [],
   "source": [
    "import graphviz \n",
    "from sklearn.tree import export_graphviz\n",
    "from sklearn import tree\n",
    "clf=DecisionTreeClassifier(class_weight='balanced', criterion='gini', max_depth=3)\n",
    "clf.fit(train_tf_idf, y_train)\n",
    "\n",
    "dot_data = tree.export_graphviz(clf, out_file=None,feature_names=tf_idf_vect.get_feature_names()) \n",
    "graph = graphviz.Source(dot_data) "
   ]
  },
  {
   "cell_type": "code",
   "execution_count": 52,
   "metadata": {},
   "outputs": [
    {
     "data": {
      "image/svg+xml": [
       "<?xml version=\"1.0\" encoding=\"UTF-8\" standalone=\"no\"?>\r\n",
       "<!DOCTYPE svg PUBLIC \"-//W3C//DTD SVG 1.1//EN\"\r\n",
       " \"http://www.w3.org/Graphics/SVG/1.1/DTD/svg11.dtd\">\r\n",
       "<!-- Generated by graphviz version 2.38.0 (20140413.2041)\r\n",
       " -->\r\n",
       "<!-- Title: Tree Pages: 1 -->\r\n",
       "<svg width=\"1490pt\" height=\"373pt\"\r\n",
       " viewBox=\"0.00 0.00 1489.50 373.00\" xmlns=\"http://www.w3.org/2000/svg\" xmlns:xlink=\"http://www.w3.org/1999/xlink\">\r\n",
       "<g id=\"graph0\" class=\"graph\" transform=\"scale(1 1) rotate(0) translate(4 369)\">\r\n",
       "<title>Tree</title>\r\n",
       "<polygon fill=\"white\" stroke=\"none\" points=\"-4,4 -4,-369 1485.5,-369 1485.5,4 -4,4\"/>\r\n",
       "<!-- 0 -->\r\n",
       "<g id=\"node1\" class=\"node\"><title>0</title>\r\n",
       "<polygon fill=\"none\" stroke=\"black\" points=\"821,-365 655,-365 655,-297 821,-297 821,-365\"/>\r\n",
       "<text text-anchor=\"middle\" x=\"738\" y=\"-349.8\" font-family=\"Times New Roman,serif\" font-size=\"14.00\">not &lt;= 0.04</text>\r\n",
       "<text text-anchor=\"middle\" x=\"738\" y=\"-334.8\" font-family=\"Times New Roman,serif\" font-size=\"14.00\">gini = 0.5</text>\r\n",
       "<text text-anchor=\"middle\" x=\"738\" y=\"-319.8\" font-family=\"Times New Roman,serif\" font-size=\"14.00\">samples = 60000</text>\r\n",
       "<text text-anchor=\"middle\" x=\"738\" y=\"-304.8\" font-family=\"Times New Roman,serif\" font-size=\"14.00\">value = [30000.0, 30000.0]</text>\r\n",
       "</g>\r\n",
       "<!-- 1 -->\r\n",
       "<g id=\"node2\" class=\"node\"><title>1</title>\r\n",
       "<polygon fill=\"none\" stroke=\"black\" points=\"692,-261 506,-261 506,-193 692,-193 692,-261\"/>\r\n",
       "<text text-anchor=\"middle\" x=\"599\" y=\"-245.8\" font-family=\"Times New Roman,serif\" font-size=\"14.00\">great &lt;= 0.076</text>\r\n",
       "<text text-anchor=\"middle\" x=\"599\" y=\"-230.8\" font-family=\"Times New Roman,serif\" font-size=\"14.00\">gini = 0.451</text>\r\n",
       "<text text-anchor=\"middle\" x=\"599\" y=\"-215.8\" font-family=\"Times New Roman,serif\" font-size=\"14.00\">samples = 23768</text>\r\n",
       "<text text-anchor=\"middle\" x=\"599\" y=\"-200.8\" font-family=\"Times New Roman,serif\" font-size=\"14.00\">value = [8043.311, 15389.225]</text>\r\n",
       "</g>\r\n",
       "<!-- 0&#45;&gt;1 -->\r\n",
       "<g id=\"edge1\" class=\"edge\"><title>0&#45;&gt;1</title>\r\n",
       "<path fill=\"none\" stroke=\"black\" d=\"M692.871,-296.884C680.004,-287.442 665.861,-277.064 652.544,-267.292\"/>\r\n",
       "<polygon fill=\"black\" stroke=\"black\" points=\"654.511,-264.394 644.379,-261.299 650.37,-270.037 654.511,-264.394\"/>\r\n",
       "<text text-anchor=\"middle\" x=\"648.172\" y=\"-282.31\" font-family=\"Times New Roman,serif\" font-size=\"14.00\">True</text>\r\n",
       "</g>\r\n",
       "<!-- 8 -->\r\n",
       "<g id=\"node9\" class=\"node\"><title>8</title>\r\n",
       "<polygon fill=\"none\" stroke=\"black\" points=\"973.5,-261 780.5,-261 780.5,-193 973.5,-193 973.5,-261\"/>\r\n",
       "<text text-anchor=\"middle\" x=\"877\" y=\"-245.8\" font-family=\"Times New Roman,serif\" font-size=\"14.00\">great &lt;= 0.039</text>\r\n",
       "<text text-anchor=\"middle\" x=\"877\" y=\"-230.8\" font-family=\"Times New Roman,serif\" font-size=\"14.00\">gini = 0.48</text>\r\n",
       "<text text-anchor=\"middle\" x=\"877\" y=\"-215.8\" font-family=\"Times New Roman,serif\" font-size=\"14.00\">samples = 36232</text>\r\n",
       "<text text-anchor=\"middle\" x=\"877\" y=\"-200.8\" font-family=\"Times New Roman,serif\" font-size=\"14.00\">value = [21956.689, 14610.775]</text>\r\n",
       "</g>\r\n",
       "<!-- 0&#45;&gt;8 -->\r\n",
       "<g id=\"edge8\" class=\"edge\"><title>0&#45;&gt;8</title>\r\n",
       "<path fill=\"none\" stroke=\"black\" d=\"M783.129,-296.884C795.996,-287.442 810.139,-277.064 823.456,-267.292\"/>\r\n",
       "<polygon fill=\"black\" stroke=\"black\" points=\"825.63,-270.037 831.621,-261.299 821.489,-264.394 825.63,-270.037\"/>\r\n",
       "<text text-anchor=\"middle\" x=\"827.828\" y=\"-282.31\" font-family=\"Times New Roman,serif\" font-size=\"14.00\">False</text>\r\n",
       "</g>\r\n",
       "<!-- 2 -->\r\n",
       "<g id=\"node3\" class=\"node\"><title>2</title>\r\n",
       "<polygon fill=\"none\" stroke=\"black\" points=\"377,-157 191,-157 191,-89 377,-89 377,-157\"/>\r\n",
       "<text text-anchor=\"middle\" x=\"284\" y=\"-141.8\" font-family=\"Times New Roman,serif\" font-size=\"14.00\">disappointed &lt;= 0.024</text>\r\n",
       "<text text-anchor=\"middle\" x=\"284\" y=\"-126.8\" font-family=\"Times New Roman,serif\" font-size=\"14.00\">gini = 0.479</text>\r\n",
       "<text text-anchor=\"middle\" x=\"284\" y=\"-111.8\" font-family=\"Times New Roman,serif\" font-size=\"14.00\">samples = 19058</text>\r\n",
       "<text text-anchor=\"middle\" x=\"284\" y=\"-96.8\" font-family=\"Times New Roman,serif\" font-size=\"14.00\">value = [7520.433, 11362.129]</text>\r\n",
       "</g>\r\n",
       "<!-- 1&#45;&gt;2 -->\r\n",
       "<g id=\"edge2\" class=\"edge\"><title>1&#45;&gt;2</title>\r\n",
       "<path fill=\"none\" stroke=\"black\" d=\"M505.768,-195.811C468.389,-183.707 425.181,-169.716 386.888,-157.316\"/>\r\n",
       "<polygon fill=\"black\" stroke=\"black\" points=\"387.857,-153.951 377.265,-154.2 385.7,-160.61 387.857,-153.951\"/>\r\n",
       "</g>\r\n",
       "<!-- 5 -->\r\n",
       "<g id=\"node6\" class=\"node\"><title>5</title>\r\n",
       "<polygon fill=\"none\" stroke=\"black\" points=\"685.5,-157 512.5,-157 512.5,-89 685.5,-89 685.5,-157\"/>\r\n",
       "<text text-anchor=\"middle\" x=\"599\" y=\"-141.8\" font-family=\"Times New Roman,serif\" font-size=\"14.00\">unfortunately &lt;= 0.042</text>\r\n",
       "<text text-anchor=\"middle\" x=\"599\" y=\"-126.8\" font-family=\"Times New Roman,serif\" font-size=\"14.00\">gini = 0.203</text>\r\n",
       "<text text-anchor=\"middle\" x=\"599\" y=\"-111.8\" font-family=\"Times New Roman,serif\" font-size=\"14.00\">samples = 4710</text>\r\n",
       "<text text-anchor=\"middle\" x=\"599\" y=\"-96.8\" font-family=\"Times New Roman,serif\" font-size=\"14.00\">value = [522.878, 4027.096]</text>\r\n",
       "</g>\r\n",
       "<!-- 1&#45;&gt;5 -->\r\n",
       "<g id=\"edge5\" class=\"edge\"><title>1&#45;&gt;5</title>\r\n",
       "<path fill=\"none\" stroke=\"black\" d=\"M599,-192.884C599,-184.778 599,-175.982 599,-167.472\"/>\r\n",
       "<polygon fill=\"black\" stroke=\"black\" points=\"602.5,-167.299 599,-157.299 595.5,-167.299 602.5,-167.299\"/>\r\n",
       "</g>\r\n",
       "<!-- 3 -->\r\n",
       "<g id=\"node4\" class=\"node\"><title>3</title>\r\n",
       "<polygon fill=\"none\" stroke=\"black\" points=\"186,-53 0,-53 0,-0 186,-0 186,-53\"/>\r\n",
       "<text text-anchor=\"middle\" x=\"93\" y=\"-37.8\" font-family=\"Times New Roman,serif\" font-size=\"14.00\">gini = 0.472</text>\r\n",
       "<text text-anchor=\"middle\" x=\"93\" y=\"-22.8\" font-family=\"Times New Roman,serif\" font-size=\"14.00\">samples = 18466</text>\r\n",
       "<text text-anchor=\"middle\" x=\"93\" y=\"-7.8\" font-family=\"Times New Roman,serif\" font-size=\"14.00\">value = [6964.024, 11303.793]</text>\r\n",
       "</g>\r\n",
       "<!-- 2&#45;&gt;3 -->\r\n",
       "<g id=\"edge3\" class=\"edge\"><title>2&#45;&gt;3</title>\r\n",
       "<path fill=\"none\" stroke=\"black\" d=\"M217.197,-88.9485C196.581,-78.748 173.997,-67.5744 153.807,-57.5852\"/>\r\n",
       "<polygon fill=\"black\" stroke=\"black\" points=\"155.23,-54.3843 144.715,-53.0867 152.126,-60.6583 155.23,-54.3843\"/>\r\n",
       "</g>\r\n",
       "<!-- 4 -->\r\n",
       "<g id=\"node5\" class=\"node\"><title>4</title>\r\n",
       "<polygon fill=\"none\" stroke=\"black\" points=\"363.5,-53 204.5,-53 204.5,-0 363.5,-0 363.5,-53\"/>\r\n",
       "<text text-anchor=\"middle\" x=\"284\" y=\"-37.8\" font-family=\"Times New Roman,serif\" font-size=\"14.00\">gini = 0.172</text>\r\n",
       "<text text-anchor=\"middle\" x=\"284\" y=\"-22.8\" font-family=\"Times New Roman,serif\" font-size=\"14.00\">samples = 592</text>\r\n",
       "<text text-anchor=\"middle\" x=\"284\" y=\"-7.8\" font-family=\"Times New Roman,serif\" font-size=\"14.00\">value = [556.409, 58.336]</text>\r\n",
       "</g>\r\n",
       "<!-- 2&#45;&gt;4 -->\r\n",
       "<g id=\"edge4\" class=\"edge\"><title>2&#45;&gt;4</title>\r\n",
       "<path fill=\"none\" stroke=\"black\" d=\"M284,-88.9485C284,-80.7153 284,-71.848 284,-63.4814\"/>\r\n",
       "<polygon fill=\"black\" stroke=\"black\" points=\"287.5,-63.2367 284,-53.2367 280.5,-63.2367 287.5,-63.2367\"/>\r\n",
       "</g>\r\n",
       "<!-- 6 -->\r\n",
       "<g id=\"node7\" class=\"node\"><title>6</title>\r\n",
       "<polygon fill=\"none\" stroke=\"black\" points=\"554.5,-53 381.5,-53 381.5,-0 554.5,-0 554.5,-53\"/>\r\n",
       "<text text-anchor=\"middle\" x=\"468\" y=\"-37.8\" font-family=\"Times New Roman,serif\" font-size=\"14.00\">gini = 0.194</text>\r\n",
       "<text text-anchor=\"middle\" x=\"468\" y=\"-22.8\" font-family=\"Times New Roman,serif\" font-size=\"14.00\">samples = 4669</text>\r\n",
       "<text text-anchor=\"middle\" x=\"468\" y=\"-7.8\" font-family=\"Times New Roman,serif\" font-size=\"14.00\">value = [491.443, 4016.576]</text>\r\n",
       "</g>\r\n",
       "<!-- 5&#45;&gt;6 -->\r\n",
       "<g id=\"edge6\" class=\"edge\"><title>5&#45;&gt;6</title>\r\n",
       "<path fill=\"none\" stroke=\"black\" d=\"M553.183,-88.9485C539.867,-79.3431 525.355,-68.8747 512.145,-59.345\"/>\r\n",
       "<polygon fill=\"black\" stroke=\"black\" points=\"513.835,-56.2486 503.677,-53.2367 509.74,-61.9257 513.835,-56.2486\"/>\r\n",
       "</g>\r\n",
       "<!-- 7 -->\r\n",
       "<g id=\"node8\" class=\"node\"><title>7</title>\r\n",
       "<polygon fill=\"none\" stroke=\"black\" points=\"719,-53 573,-53 573,-0 719,-0 719,-53\"/>\r\n",
       "<text text-anchor=\"middle\" x=\"646\" y=\"-37.8\" font-family=\"Times New Roman,serif\" font-size=\"14.00\">gini = 0.376</text>\r\n",
       "<text text-anchor=\"middle\" x=\"646\" y=\"-22.8\" font-family=\"Times New Roman,serif\" font-size=\"14.00\">samples = 41</text>\r\n",
       "<text text-anchor=\"middle\" x=\"646\" y=\"-7.8\" font-family=\"Times New Roman,serif\" font-size=\"14.00\">value = [31.436, 10.52]</text>\r\n",
       "</g>\r\n",
       "<!-- 5&#45;&gt;7 -->\r\n",
       "<g id=\"edge7\" class=\"edge\"><title>5&#45;&gt;7</title>\r\n",
       "<path fill=\"none\" stroke=\"black\" d=\"M615.438,-88.9485C619.715,-80.3494 624.336,-71.0586 628.658,-62.3689\"/>\r\n",
       "<polygon fill=\"black\" stroke=\"black\" points=\"631.88,-63.7491 633.2,-53.2367 625.613,-60.6318 631.88,-63.7491\"/>\r\n",
       "</g>\r\n",
       "<!-- 9 -->\r\n",
       "<g id=\"node10\" class=\"node\"><title>9</title>\r\n",
       "<polygon fill=\"none\" stroke=\"black\" points=\"973.5,-157 780.5,-157 780.5,-89 973.5,-89 973.5,-157\"/>\r\n",
       "<text text-anchor=\"middle\" x=\"877\" y=\"-141.8\" font-family=\"Times New Roman,serif\" font-size=\"14.00\">best &lt;= 0.034</text>\r\n",
       "<text text-anchor=\"middle\" x=\"877\" y=\"-126.8\" font-family=\"Times New Roman,serif\" font-size=\"14.00\">gini = 0.455</text>\r\n",
       "<text text-anchor=\"middle\" x=\"877\" y=\"-111.8\" font-family=\"Times New Roman,serif\" font-size=\"14.00\">samples = 30088</text>\r\n",
       "<text text-anchor=\"middle\" x=\"877\" y=\"-96.8\" font-family=\"Times New Roman,serif\" font-size=\"14.00\">value = [19848.411, 10659.229]</text>\r\n",
       "</g>\r\n",
       "<!-- 8&#45;&gt;9 -->\r\n",
       "<g id=\"edge9\" class=\"edge\"><title>8&#45;&gt;9</title>\r\n",
       "<path fill=\"none\" stroke=\"black\" d=\"M877,-192.884C877,-184.778 877,-175.982 877,-167.472\"/>\r\n",
       "<polygon fill=\"black\" stroke=\"black\" points=\"880.5,-167.299 877,-157.299 873.5,-167.299 880.5,-167.299\"/>\r\n",
       "</g>\r\n",
       "<!-- 12 -->\r\n",
       "<g id=\"node13\" class=\"node\"><title>12</title>\r\n",
       "<polygon fill=\"none\" stroke=\"black\" points=\"1304.5,-157 1125.5,-157 1125.5,-89 1304.5,-89 1304.5,-157\"/>\r\n",
       "<text text-anchor=\"middle\" x=\"1215\" y=\"-141.8\" font-family=\"Times New Roman,serif\" font-size=\"14.00\">thought &lt;= 0.058</text>\r\n",
       "<text text-anchor=\"middle\" x=\"1215\" y=\"-126.8\" font-family=\"Times New Roman,serif\" font-size=\"14.00\">gini = 0.454</text>\r\n",
       "<text text-anchor=\"middle\" x=\"1215\" y=\"-111.8\" font-family=\"Times New Roman,serif\" font-size=\"14.00\">samples = 6144</text>\r\n",
       "<text text-anchor=\"middle\" x=\"1215\" y=\"-96.8\" font-family=\"Times New Roman,serif\" font-size=\"14.00\">value = [2108.278, 3951.546]</text>\r\n",
       "</g>\r\n",
       "<!-- 8&#45;&gt;12 -->\r\n",
       "<g id=\"edge12\" class=\"edge\"><title>8&#45;&gt;12</title>\r\n",
       "<path fill=\"none\" stroke=\"black\" d=\"M973.857,-196.771C1018.29,-183.361 1070.92,-167.48 1115.65,-153.98\"/>\r\n",
       "<polygon fill=\"black\" stroke=\"black\" points=\"1116.81,-157.289 1125.37,-151.049 1114.78,-150.587 1116.81,-157.289\"/>\r\n",
       "</g>\r\n",
       "<!-- 10 -->\r\n",
       "<g id=\"node11\" class=\"node\"><title>10</title>\r\n",
       "<polygon fill=\"none\" stroke=\"black\" points=\"923,-53 737,-53 737,-0 923,-0 923,-53\"/>\r\n",
       "<text text-anchor=\"middle\" x=\"830\" y=\"-37.8\" font-family=\"Times New Roman,serif\" font-size=\"14.00\">gini = 0.438</text>\r\n",
       "<text text-anchor=\"middle\" x=\"830\" y=\"-22.8\" font-family=\"Times New Roman,serif\" font-size=\"14.00\">samples = 27595</text>\r\n",
       "<text text-anchor=\"middle\" x=\"830\" y=\"-7.8\" font-family=\"Times New Roman,serif\" font-size=\"14.00\">value = [18955.641, 9089.895]</text>\r\n",
       "</g>\r\n",
       "<!-- 9&#45;&gt;10 -->\r\n",
       "<g id=\"edge10\" class=\"edge\"><title>9&#45;&gt;10</title>\r\n",
       "<path fill=\"none\" stroke=\"black\" d=\"M860.562,-88.9485C856.285,-80.3494 851.664,-71.0586 847.342,-62.3689\"/>\r\n",
       "<polygon fill=\"black\" stroke=\"black\" points=\"850.387,-60.6318 842.8,-53.2367 844.12,-63.7491 850.387,-60.6318\"/>\r\n",
       "</g>\r\n",
       "<!-- 11 -->\r\n",
       "<g id=\"node12\" class=\"node\"><title>11</title>\r\n",
       "<polygon fill=\"none\" stroke=\"black\" points=\"1107,-53 941,-53 941,-0 1107,-0 1107,-53\"/>\r\n",
       "<text text-anchor=\"middle\" x=\"1024\" y=\"-37.8\" font-family=\"Times New Roman,serif\" font-size=\"14.00\">gini = 0.462</text>\r\n",
       "<text text-anchor=\"middle\" x=\"1024\" y=\"-22.8\" font-family=\"Times New Roman,serif\" font-size=\"14.00\">samples = 2493</text>\r\n",
       "<text text-anchor=\"middle\" x=\"1024\" y=\"-7.8\" font-family=\"Times New Roman,serif\" font-size=\"14.00\">value = [892.77, 1569.334]</text>\r\n",
       "</g>\r\n",
       "<!-- 9&#45;&gt;11 -->\r\n",
       "<g id=\"edge11\" class=\"edge\"><title>9&#45;&gt;11</title>\r\n",
       "<path fill=\"none\" stroke=\"black\" d=\"M928.413,-88.9485C943.64,-79.1601 960.26,-68.4756 975.309,-58.8015\"/>\r\n",
       "<polygon fill=\"black\" stroke=\"black\" points=\"977.446,-61.5885 983.965,-53.2367 973.661,-55.7002 977.446,-61.5885\"/>\r\n",
       "</g>\r\n",
       "<!-- 13 -->\r\n",
       "<g id=\"node14\" class=\"node\"><title>13</title>\r\n",
       "<polygon fill=\"none\" stroke=\"black\" points=\"1304.5,-53 1125.5,-53 1125.5,-0 1304.5,-0 1304.5,-53\"/>\r\n",
       "<text text-anchor=\"middle\" x=\"1215\" y=\"-37.8\" font-family=\"Times New Roman,serif\" font-size=\"14.00\">gini = 0.435</text>\r\n",
       "<text text-anchor=\"middle\" x=\"1215\" y=\"-22.8\" font-family=\"Times New Roman,serif\" font-size=\"14.00\">samples = 5638</text>\r\n",
       "<text text-anchor=\"middle\" x=\"1215\" y=\"-7.8\" font-family=\"Times New Roman,serif\" font-size=\"14.00\">value = [1775.061, 3771.756]</text>\r\n",
       "</g>\r\n",
       "<!-- 12&#45;&gt;13 -->\r\n",
       "<g id=\"edge13\" class=\"edge\"><title>12&#45;&gt;13</title>\r\n",
       "<path fill=\"none\" stroke=\"black\" d=\"M1215,-88.9485C1215,-80.7153 1215,-71.848 1215,-63.4814\"/>\r\n",
       "<polygon fill=\"black\" stroke=\"black\" points=\"1218.5,-63.2367 1215,-53.2367 1211.5,-63.2367 1218.5,-63.2367\"/>\r\n",
       "</g>\r\n",
       "<!-- 14 -->\r\n",
       "<g id=\"node15\" class=\"node\"><title>14</title>\r\n",
       "<polygon fill=\"none\" stroke=\"black\" points=\"1481.5,-53 1322.5,-53 1322.5,-0 1481.5,-0 1481.5,-53\"/>\r\n",
       "<text text-anchor=\"middle\" x=\"1402\" y=\"-37.8\" font-family=\"Times New Roman,serif\" font-size=\"14.00\">gini = 0.455</text>\r\n",
       "<text text-anchor=\"middle\" x=\"1402\" y=\"-22.8\" font-family=\"Times New Roman,serif\" font-size=\"14.00\">samples = 506</text>\r\n",
       "<text text-anchor=\"middle\" x=\"1402\" y=\"-7.8\" font-family=\"Times New Roman,serif\" font-size=\"14.00\">value = [333.217, 179.79]</text>\r\n",
       "</g>\r\n",
       "<!-- 12&#45;&gt;14 -->\r\n",
       "<g id=\"edge14\" class=\"edge\"><title>12&#45;&gt;14</title>\r\n",
       "<path fill=\"none\" stroke=\"black\" d=\"M1280.4,-88.9485C1300.5,-78.794 1322.5,-67.675 1342.2,-57.7203\"/>\r\n",
       "<polygon fill=\"black\" stroke=\"black\" points=\"1344.02,-60.7208 1351.37,-53.0867 1340.86,-54.4732 1344.02,-60.7208\"/>\r\n",
       "</g>\r\n",
       "</g>\r\n",
       "</svg>\r\n"
      ],
      "text/plain": [
       "<graphviz.files.Source at 0x204419b54a8>"
      ]
     },
     "execution_count": 52,
     "metadata": {},
     "output_type": "execute_result"
    }
   ],
   "source": [
    "graph"
   ]
  },
  {
   "cell_type": "code",
   "execution_count": 411,
   "metadata": {},
   "outputs": [],
   "source": [
    "import os\n",
    "os.environ[\"PATH\"] += os.pathsep + 'C:/Program Files (x86)/Graphviz2.38/release/bin/'\n"
   ]
  },
  {
   "cell_type": "code",
   "execution_count": 412,
   "metadata": {},
   "outputs": [
    {
     "data": {
      "text/plain": [
       "'D:\\\\python\\\\DLLs;D:\\\\python;D:\\\\python\\\\Library\\\\mingw-w64\\\\bin;D:\\\\python\\\\Library\\\\usr\\\\bin;D:\\\\python\\\\Library\\\\bin;D:\\\\python\\\\Scripts;C:\\\\Program Files (x86)\\\\Common Files\\\\Oracle\\\\Java\\\\javapath0.2;C:\\\\WINDOWS\\\\system32;C:\\\\WINDOWS;C:\\\\WINDOWS\\\\System32\\\\Wbem;C:\\\\WINDOWS\\\\System32\\\\WindowsPowerShell\\\\v1.0\\\\;C:\\\\Program Files\\\\MATLAB\\\\R2017a\\\\runtime\\\\win64;C:\\\\Program Files\\\\MATLAB\\\\R2017a\\\\bin;C:\\\\WINDOWS\\\\System32\\\\OpenSSH\\\\;C:\\\\Program Files\\\\Java\\\\jdk-10.0.2\\\\bin;C:\\\\Program Files\\\\Java\\\\jre-10.0.2\\\\bin;C:\\\\Users\\\\Lenovo\\\\.pylint.duih;C:\\\\Users\\\\Lenovo\\\\.pylint.duih\\\\Scripts;C:\\\\Users\\\\Lenovo\\\\.pylint.duih\\\\Library\\\\bin;C:\\\\Users\\\\Lenovo\\\\kokl;C:\\\\Users\\\\Lenovo\\\\kokl\\\\Scripts;C:\\\\Users\\\\Lenovo\\\\kokl\\\\Library\\\\bin;D:\\\\python;D:\\\\python\\\\Library\\\\mingw-w64\\\\bin;D:\\\\python\\\\Library\\\\usr\\\\bin;D:\\\\python\\\\Library\\\\bin;D:\\\\python\\\\Scripts;C:\\\\Users\\\\Lenovo\\\\AppData\\\\Local\\\\Microsoft\\\\WindowsApps;D:\\\\m\\\\miktex\\\\bin\\\\x64\\\\;D:/Program Files (x86)/Graphviz2.38/bin/;D:/Program Files (x86)/Graphviz2.38/release/bin/;C:/Program Files (x86)/Graphviz2.38/release/bin/;C:/Program Files (x86)/Graphviz2.38/release/bin/;C:/Program Files (x86)/Graphviz2.38/release/bin/;C:/Program Files (x86)/Graphviz2.38/release/bin/;C:/Program Files (x86)/Graphviz2.38/release/bin/;C:/Program Files (x86)/Graphviz2.38/release/bin/;C:/Program Files (x86)/Graphviz2.38/release/bin/;C:/Program Files (x86)/Graphviz2.38/release/bin/;C:/Program Files (x86)/Graphviz2.38/release/bin/'"
      ]
     },
     "execution_count": 412,
     "metadata": {},
     "output_type": "execute_result"
    }
   ],
   "source": [
    "os.environ[\"PATH\"]"
   ]
  },
  {
   "cell_type": "markdown",
   "metadata": {},
   "source": [
    "## [5.3] Applying Decision Trees on AVG W2V,<font color='red'> SET 3</font>"
   ]
  },
  {
   "cell_type": "code",
   "execution_count": 222,
   "metadata": {},
   "outputs": [
    {
     "name": "stdout",
     "output_type": "stream",
     "text": [
      "AFTER FEATURE ENGINEERING\n",
      "AUC cv SCORE  FOR 1 is 71.24121714070755\n",
      "AUC cv SCORE  FOR 5 is 82.01519510169368\n",
      "AUC cv SCORE  FOR 10 is 84.14721290222823\n",
      "AUC cv SCORE  FOR 50 is 84.14907529118366\n",
      "AUC cv SCORE  FOR 100 is 84.14209007490969\n",
      "AUC cv SCORE  FOR 500 is 84.13370278461659\n",
      "AUC cv SCORE  FOR 1000 is 84.14438410344476\n",
      "==================================================\n",
      "train AUC SCORE [0.7169784889009823, 0.844506726423075, 0.8872970628545894, 0.8880315903864431, 0.8880315903864431, 0.8880315903864431, 0.8880315903864431]\n",
      "==================================================\n",
      " MAX CV AUC SCORE 84.14907529118366\n"
     ]
    }
   ],
   "source": [
    "list_train,list_cv,pred_train,pred_cv,depth,clf=SimpleCrossValidation_depth(x_test=sent_vectors_test,x_train=sent_vectors_train,x_cv=sent_vectors_cv,pred_train_data=sent_vectors_train,pred_cv_data=sent_vectors_cv)"
   ]
  },
  {
   "cell_type": "code",
   "execution_count": 223,
   "metadata": {},
   "outputs": [
    {
     "data": {
      "image/png": "[encoded data removed]",
      "text/plain": [
       "<Figure size 432x288 with 1 Axes>"
      ]
     },
     "metadata": {},
     "output_type": "display_data"
    }
   ],
   "source": [
    "AUCcurve_depth(y1=list_train,y2=list_cv)"
   ]
  },
  {
   "cell_type": "code",
   "execution_count": 224,
   "metadata": {},
   "outputs": [
    {
     "name": "stdout",
     "output_type": "stream",
     "text": [
      "AFTER FEATURE ENGINEERING\n",
      "AUC cv SCORE  FOR 5 is 84.13999325233642\n",
      "AUC cv SCORE  FOR 10 is 84.13614974838734\n",
      "AUC cv SCORE  FOR 100 is 84.142392423846\n",
      "AUC cv SCORE  FOR 500 is 83.65119010377019\n",
      "==================================================\n",
      "train AUC SCORE [0.8880315903864431, 0.8880315903864431, 0.8880315903864431, 0.8700645322115379]\n",
      "==================================================\n",
      " MAX CV AUC SCORE 84.142392423846\n"
     ]
    }
   ],
   "source": [
    "list_train,list_cv,pred_train,pred_cv,min,clf=SimpleCrossValidation_min(x_test=sent_vectors_test,x_train=sent_vectors_train,x_cv=sent_vectors_cv,pred_train_data=sent_vectors_train,pred_cv_data=sent_vectors_cv)"
   ]
  },
  {
   "cell_type": "code",
   "execution_count": 225,
   "metadata": {},
   "outputs": [
    {
     "data": {
      "image/png": "[encoded data removed]",
      "text/plain": [
       "<Figure size 432x288 with 1 Axes>"
      ]
     },
     "metadata": {},
     "output_type": "display_data"
    }
   ],
   "source": [
    "AUCcurve_min(y1=list_train,y2=list_cv)"
   ]
  },
  {
   "cell_type": "code",
   "execution_count": 390,
   "metadata": {},
   "outputs": [
    {
     "name": "stdout",
     "output_type": "stream",
     "text": [
      "AUC VALUE FOR TEST DATA 84.14960566357578\n"
     ]
    }
   ],
   "source": [
    "clf=DecisionTreeClassifier(class_weight='balanced', criterion='gini', max_depth=50,\n",
    "             max_leaf_nodes=1000,\n",
    "            min_impurity_split=None, min_samples_leaf=100,\n",
    "            min_samples_split=5, \n",
    "            splitter='best')\n",
    "clf.fit(sent_vectors_train, y_train)\n",
    "\n",
    "pred_test_sent_vectors= (clf.predict_proba(sent_vectors_test))[:,1]\n",
    "auc_test=roc_auc_score(y_test,pred_test_sent_vectors)*100\n",
    "print('AUC VALUE FOR TEST DATA',auc_test)\n",
    "pred_test=clf.predict(sent_vectors_test)"
   ]
  },
  {
   "cell_type": "code",
   "execution_count": 231,
   "metadata": {},
   "outputs": [
    {
     "data": {
      "image/png": "[encoded data removed]",
      "text/plain": [
       "<Figure size 432x288 with 1 Axes>"
      ]
     },
     "metadata": {},
     "output_type": "display_data"
    },
    {
     "data": {
      "image/png": "[encoded data removed]",
      "text/plain": [
       "<Figure size 576x432 with 2 Axes>"
      ]
     },
     "metadata": {},
     "output_type": "display_data"
    }
   ],
   "source": [
    "\n",
    "ROC_curve(pred_train,pred_test)\n",
    "confusion(pred_test)"
   ]
  },
  {
   "cell_type": "markdown",
   "metadata": {},
   "source": [
    "## [5.4] Applying Decision Trees on TFIDF W2V,<font color='red'> SET 4</font>"
   ]
  },
  {
   "cell_type": "code",
   "execution_count": 233,
   "metadata": {},
   "outputs": [
    {
     "name": "stdout",
     "output_type": "stream",
     "text": [
      "AFTER FEATURE ENGINEERING\n",
      "AUC cv SCORE  FOR 1 is 68.06784219128181\n",
      "AUC cv SCORE  FOR 5 is 79.28628616862986\n",
      "AUC cv SCORE  FOR 10 is 81.27384406216271\n",
      "AUC cv SCORE  FOR 50 is 81.24910125395222\n",
      "AUC cv SCORE  FOR 100 is 81.24826312861461\n",
      "AUC cv SCORE  FOR 500 is 81.26628533875495\n",
      "AUC cv SCORE  FOR 1000 is 81.25531525405421\n",
      "==================================================\n",
      "train AUC SCORE [0.6852575812176247, 0.8143227196198448, 0.864120272417567, 0.8650087382585868, 0.8650087382585868, 0.8650087382585868, 0.8650087382585868]\n",
      "==================================================\n",
      " MAX CV AUC SCORE 81.27384406216271\n"
     ]
    }
   ],
   "source": [
    "list_train,list_cv,pred_train,pred_cv,depth,clf=SimpleCrossValidation_depth(x_train=tfidf_sent_vectors_train,\n",
    "x_cv=tfidf_sent_vectors_cv,pred_train_data=tfidf_sent_vectors_train,pred_cv_data=tfidf_sent_vectors_cv,x_test=tfidf_sent_vectors_test)"
   ]
  },
  {
   "cell_type": "code",
   "execution_count": 234,
   "metadata": {},
   "outputs": [
    {
     "data": {
      "image/png": "[encoded data removed]",
      "text/plain": [
       "<Figure size 432x288 with 1 Axes>"
      ]
     },
     "metadata": {},
     "output_type": "display_data"
    }
   ],
   "source": [
    "AUCcurve_depth(y1=list_train,y2=list_cv)\n"
   ]
  },
  {
   "cell_type": "code",
   "execution_count": 235,
   "metadata": {},
   "outputs": [
    {
     "name": "stdout",
     "output_type": "stream",
     "text": [
      "AFTER FEATURE ENGINEERING\n",
      "AUC cv SCORE  FOR 5 is 81.24941265826433\n",
      "AUC cv SCORE  FOR 10 is 81.25683404180582\n",
      "AUC cv SCORE  FOR 100 is 81.25659357127077\n",
      "AUC cv SCORE  FOR 500 is 81.03417995865034\n",
      "==================================================\n",
      "train AUC SCORE [0.8650087382585868, 0.8650087382585868, 0.8650087382585868, 0.8430286688195681]\n",
      "==================================================\n",
      " MAX CV AUC SCORE 81.25683404180582\n"
     ]
    }
   ],
   "source": [
    "list_train,list_cv,pred_train,pred_cv,min,clf=SimpleCrossValidation_min(x_train=tfidf_sent_vectors_train,\n",
    "x_cv=tfidf_sent_vectors_cv,pred_train_data=tfidf_sent_vectors_train,pred_cv_data=tfidf_sent_vectors_cv,x_test=tfidf_sent_vectors_test)"
   ]
  },
  {
   "cell_type": "code",
   "execution_count": 236,
   "metadata": {},
   "outputs": [
    {
     "data": {
      "image/png": "[encoded data removed]",
      "text/plain": [
       "<Figure size 432x288 with 1 Axes>"
      ]
     },
     "metadata": {},
     "output_type": "display_data"
    }
   ],
   "source": [
    "AUCcurve_min(y1=list_train,y2=list_cv)\n"
   ]
  },
  {
   "cell_type": "code",
   "execution_count": 239,
   "metadata": {},
   "outputs": [
    {
     "name": "stdout",
     "output_type": "stream",
     "text": [
      "AUC VALUE FOR TEST DATA 81.3738754593046\n"
     ]
    }
   ],
   "source": [
    "clf=DecisionTreeClassifier(class_weight='balanced', criterion='gini', max_depth=50,\n",
    "             max_leaf_nodes=1000,\n",
    "            min_impurity_split=None, min_samples_leaf=100,\n",
    "            min_samples_split=5, \n",
    "            splitter='best')\n",
    "clf.fit(tfidf_sent_vectors_train, y_train)\n",
    "\n",
    "\n",
    "pred_test_tf_idf= (clf.predict_proba(tfidf_sent_vectors_test))[:,1]\n",
    "auc_test=roc_auc_score(y_test,pred_test_tf_idf)*100\n",
    "print('AUC VALUE FOR TEST DATA',auc_test)\n",
    "pred_test=clf.predict(tfidf_sent_vectors_test)"
   ]
  },
  {
   "cell_type": "code",
   "execution_count": 240,
   "metadata": {},
   "outputs": [
    {
     "data": {
      "image/png": "[encoded data removed]",
      "text/plain": [
       "<Figure size 432x288 with 1 Axes>"
      ]
     },
     "metadata": {},
     "output_type": "display_data"
    },
    {
     "data": {
      "image/png": "[encoded data removed]",
      "text/plain": [
       "<Figure size 576x432 with 2 Axes>"
      ]
     },
     "metadata": {},
     "output_type": "display_data"
    }
   ],
   "source": [
    "ROC_curve(pred_train,pred_test)\n",
    "confusion(pred_test)"
   ]
  },
  {
   "cell_type": "markdown",
   "metadata": {},
   "source": [
    "# [6] Conclusions"
   ]
  },
  {
   "cell_type": "code",
   "execution_count": 62,
   "metadata": {},
   "outputs": [
    {
     "name": "stdout",
     "output_type": "stream",
     "text": [
      "+------------+---------------+-----------+------------------+-------+\n",
      "| Vectorizer |     Model     | max_depth | min_sample_split |  AUC  |\n",
      "+------------+---------------+-----------+------------------+-------+\n",
      "|    BOW     |  DecisionTree |    1000   |        10        | 82.83 |\n",
      "|   TF-IDF   |  DecisionTree |    500    |        5         | 82.81 |\n",
      "|  AVG-W2V   |  DecisionTree |     50    |        5         | 84.14 |\n",
      "| TF-IDF-W2V |  DecisionTree |     50    |        5         | 81.37 |\n",
      "+------------+---------------+-----------+------------------+-------+\n"
     ]
    }
   ],
   "source": [
    "# Please compare all your models using Prettytable library\n",
    "# Please compare all your models using Prettytable library\n",
    "# Please compare all your models using Prettytable library\n",
    "from prettytable import PrettyTable\n",
    "    \n",
    "x = PrettyTable()\n",
    "\n",
    "x.field_names = [\"Vectorizer\",\"Model\" ,\"max_depth\",\"min_sample_split\",\"AUC\"]\n",
    "\n",
    "x.add_row([\"BOW\", \" DecisionTree\",1000,10 ,82.83])\n",
    "x.add_row([\"TF-IDF\",\" DecisionTree\",500,5,82.81])\n",
    "x.add_row([\"AVG-W2V\",\" DecisionTree\",50,5,84.14])\n",
    "x.add_row([\"TF-IDF-W2V\",\" DecisionTree\",50,5,81.37])\n",
    "\n",
    "\n",
    "print(x)"
   ]
  },
  {
   "cell_type": "code",
   "execution_count": null,
   "metadata": {},
   "outputs": [],
   "source": []
  }
 ],
 "metadata": {
  "kernelspec": {
   "display_name": "Python 3",
   "language": "python",
   "name": "python3"
  },
  "language_info": {
   "codemirror_mode": {
    "name": "ipython",
    "version": 3
   },
   "file_extension": ".py",
   "mimetype": "text/x-python",
   "name": "python",
   "nbconvert_exporter": "python",
   "pygments_lexer": "ipython3",
   "version": "3.6.5"
  }
 },
 "nbformat": 4,
 "nbformat_minor": 2
}
